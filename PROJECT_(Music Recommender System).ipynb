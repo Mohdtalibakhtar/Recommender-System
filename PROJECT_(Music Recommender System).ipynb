{
 "cells": [
  {
   "cell_type": "markdown",
   "metadata": {},
   "source": [
    "# Music Recommender System\n",
    "\n",
    "\n",
    "-  One of the most used machine learning algorithms is recommendation systems. A recommender (or recommendation) system (or engine) is a filtering system whose aim is to predict a rating or preference a user would give to an item, eg. a film, a product, a song, etc.  \n",
    "\n",
    "### -  This project is aimed upon building a music recommendation system that gives the user recommendations on music based on his music taste by analysing his previously heard music and playlist.\n",
    "\n",
    "\n",
    "Data Files provided are:-\n",
    "* kaggle_songs.txt\n",
    "* kaggle_users.txt\n",
    "* kaggle_visible_evaluation_triplets.txt\n",
    "* taste_profile_song_to_tracks.txt\n",
    "* unique_tracks.txt"
   ]
  },
  {
   "cell_type": "markdown",
   "metadata": {},
   "source": [
    "### Importing the required libraries"
   ]
  },
  {
   "cell_type": "code",
   "execution_count": 1,
   "metadata": {},
   "outputs": [],
   "source": [
    "import pandas as pd\n",
    "import numpy as np\n",
    "import os\n",
    "import random\n",
    "import warnings\n",
    "warnings.filterwarnings('ignore')"
   ]
  },
  {
   "cell_type": "code",
   "execution_count": 2,
   "metadata": {},
   "outputs": [],
   "source": [
    "from datetime import datetime\n",
    "from scipy import sparse\n",
    "from scipy.sparse import csr_matrix\n",
    "from sklearn.decomposition import TruncatedSVD\n",
    "from sklearn.metrics.pairwise import cosine_similarity"
   ]
  },
  {
   "cell_type": "markdown",
   "metadata": {},
   "source": [
    "# Data Exploration\n",
    "To start off, we load and examine the dataset."
   ]
  },
  {
   "cell_type": "code",
   "execution_count": 3,
   "metadata": {},
   "outputs": [
    {
     "data": {
      "text/html": [
       "<div>\n",
       "<style scoped>\n",
       "    .dataframe tbody tr th:only-of-type {\n",
       "        vertical-align: middle;\n",
       "    }\n",
       "\n",
       "    .dataframe tbody tr th {\n",
       "        vertical-align: top;\n",
       "    }\n",
       "\n",
       "    .dataframe thead th {\n",
       "        text-align: right;\n",
       "    }\n",
       "</style>\n",
       "<table border=\"1\" class=\"dataframe\">\n",
       "  <thead>\n",
       "    <tr style=\"text-align: right;\">\n",
       "      <th></th>\n",
       "      <th>fd50c4007b68a3737fe052d5a4f78ce8aa117f3d</th>\n",
       "      <th>SOBONKR12A58A7A7E0</th>\n",
       "      <th>1</th>\n",
       "    </tr>\n",
       "  </thead>\n",
       "  <tbody>\n",
       "    <tr>\n",
       "      <th>0</th>\n",
       "      <td>fd50c4007b68a3737fe052d5a4f78ce8aa117f3d</td>\n",
       "      <td>SOEGIYH12A6D4FC0E3</td>\n",
       "      <td>1</td>\n",
       "    </tr>\n",
       "    <tr>\n",
       "      <th>1</th>\n",
       "      <td>fd50c4007b68a3737fe052d5a4f78ce8aa117f3d</td>\n",
       "      <td>SOFLJQZ12A6D4FADA6</td>\n",
       "      <td>1</td>\n",
       "    </tr>\n",
       "    <tr>\n",
       "      <th>2</th>\n",
       "      <td>fd50c4007b68a3737fe052d5a4f78ce8aa117f3d</td>\n",
       "      <td>SOHTKMO12AB01843B0</td>\n",
       "      <td>1</td>\n",
       "    </tr>\n",
       "    <tr>\n",
       "      <th>3</th>\n",
       "      <td>fd50c4007b68a3737fe052d5a4f78ce8aa117f3d</td>\n",
       "      <td>SODQZCY12A6D4F9D11</td>\n",
       "      <td>1</td>\n",
       "    </tr>\n",
       "    <tr>\n",
       "      <th>4</th>\n",
       "      <td>fd50c4007b68a3737fe052d5a4f78ce8aa117f3d</td>\n",
       "      <td>SOXLOQG12AF72A2D55</td>\n",
       "      <td>1</td>\n",
       "    </tr>\n",
       "  </tbody>\n",
       "</table>\n",
       "</div>"
      ],
      "text/plain": [
       "   fd50c4007b68a3737fe052d5a4f78ce8aa117f3d  SOBONKR12A58A7A7E0  1\n",
       "0  fd50c4007b68a3737fe052d5a4f78ce8aa117f3d  SOEGIYH12A6D4FC0E3  1\n",
       "1  fd50c4007b68a3737fe052d5a4f78ce8aa117f3d  SOFLJQZ12A6D4FADA6  1\n",
       "2  fd50c4007b68a3737fe052d5a4f78ce8aa117f3d  SOHTKMO12AB01843B0  1\n",
       "3  fd50c4007b68a3737fe052d5a4f78ce8aa117f3d  SODQZCY12A6D4F9D11  1\n",
       "4  fd50c4007b68a3737fe052d5a4f78ce8aa117f3d  SOXLOQG12AF72A2D55  1"
      ]
     },
     "execution_count": 3,
     "metadata": {},
     "output_type": "execute_result"
    }
   ],
   "source": [
    "triplets=pd.read_table(r\"C:\\Users\\rohit\\Documents\\data\\kaggle\\kaggle_visible_evaluation_triplets.txt\")\n",
    "triplets.head()"
   ]
  },
  {
   "cell_type": "code",
   "execution_count": 4,
   "metadata": {},
   "outputs": [
    {
     "name": "stdout",
     "output_type": "stream",
     "text": [
      "<class 'pandas.core.frame.DataFrame'>\n",
      "RangeIndex: 1450932 entries, 0 to 1450931\n",
      "Data columns (total 3 columns):\n",
      " #   Column                                    Non-Null Count    Dtype \n",
      "---  ------                                    --------------    ----- \n",
      " 0   fd50c4007b68a3737fe052d5a4f78ce8aa117f3d  1450932 non-null  object\n",
      " 1   SOBONKR12A58A7A7E0                        1450932 non-null  object\n",
      " 2   1                                         1450932 non-null  int64 \n",
      "dtypes: int64(1), object(2)\n",
      "memory usage: 33.2+ MB\n"
     ]
    }
   ],
   "source": [
    "triplets.info()"
   ]
  },
  {
   "cell_type": "code",
   "execution_count": 5,
   "metadata": {},
   "outputs": [
    {
     "data": {
      "text/plain": [
       "Index(['fd50c4007b68a3737fe052d5a4f78ce8aa117f3d', 'SOBONKR12A58A7A7E0', '1'], dtype='object')"
      ]
     },
     "execution_count": 5,
     "metadata": {},
     "output_type": "execute_result"
    }
   ],
   "source": [
    "triplets.columns"
   ]
  },
  {
   "cell_type": "code",
   "execution_count": 6,
   "metadata": {},
   "outputs": [],
   "source": [
    "### Renaming the columns with standardized names."
   ]
  },
  {
   "cell_type": "code",
   "execution_count": 7,
   "metadata": {},
   "outputs": [],
   "source": [
    "triplets=triplets.rename(columns={'fd50c4007b68a3737fe052d5a4f78ce8aa117f3d':'user_id','SOBONKR12A58A7A7E0':'song_id','1':'listen_count'})"
   ]
  },
  {
   "cell_type": "code",
   "execution_count": 8,
   "metadata": {},
   "outputs": [
    {
     "data": {
      "text/html": [
       "<div>\n",
       "<style scoped>\n",
       "    .dataframe tbody tr th:only-of-type {\n",
       "        vertical-align: middle;\n",
       "    }\n",
       "\n",
       "    .dataframe tbody tr th {\n",
       "        vertical-align: top;\n",
       "    }\n",
       "\n",
       "    .dataframe thead th {\n",
       "        text-align: right;\n",
       "    }\n",
       "</style>\n",
       "<table border=\"1\" class=\"dataframe\">\n",
       "  <thead>\n",
       "    <tr style=\"text-align: right;\">\n",
       "      <th></th>\n",
       "      <th>user_id</th>\n",
       "      <th>song_id</th>\n",
       "      <th>listen_count</th>\n",
       "    </tr>\n",
       "  </thead>\n",
       "  <tbody>\n",
       "    <tr>\n",
       "      <th>0</th>\n",
       "      <td>fd50c4007b68a3737fe052d5a4f78ce8aa117f3d</td>\n",
       "      <td>SOEGIYH12A6D4FC0E3</td>\n",
       "      <td>1</td>\n",
       "    </tr>\n",
       "    <tr>\n",
       "      <th>1</th>\n",
       "      <td>fd50c4007b68a3737fe052d5a4f78ce8aa117f3d</td>\n",
       "      <td>SOFLJQZ12A6D4FADA6</td>\n",
       "      <td>1</td>\n",
       "    </tr>\n",
       "    <tr>\n",
       "      <th>2</th>\n",
       "      <td>fd50c4007b68a3737fe052d5a4f78ce8aa117f3d</td>\n",
       "      <td>SOHTKMO12AB01843B0</td>\n",
       "      <td>1</td>\n",
       "    </tr>\n",
       "    <tr>\n",
       "      <th>3</th>\n",
       "      <td>fd50c4007b68a3737fe052d5a4f78ce8aa117f3d</td>\n",
       "      <td>SODQZCY12A6D4F9D11</td>\n",
       "      <td>1</td>\n",
       "    </tr>\n",
       "    <tr>\n",
       "      <th>4</th>\n",
       "      <td>fd50c4007b68a3737fe052d5a4f78ce8aa117f3d</td>\n",
       "      <td>SOXLOQG12AF72A2D55</td>\n",
       "      <td>1</td>\n",
       "    </tr>\n",
       "    <tr>\n",
       "      <th>...</th>\n",
       "      <td>...</td>\n",
       "      <td>...</td>\n",
       "      <td>...</td>\n",
       "    </tr>\n",
       "    <tr>\n",
       "      <th>1450927</th>\n",
       "      <td>5e650759ebf89012044c6d52121eeada8b0ec814</td>\n",
       "      <td>SOVLNXV12A6D4F706E</td>\n",
       "      <td>1</td>\n",
       "    </tr>\n",
       "    <tr>\n",
       "      <th>1450928</th>\n",
       "      <td>5e650759ebf89012044c6d52121eeada8b0ec814</td>\n",
       "      <td>SOVDSJC12A58A7A271</td>\n",
       "      <td>2</td>\n",
       "    </tr>\n",
       "    <tr>\n",
       "      <th>1450929</th>\n",
       "      <td>5e650759ebf89012044c6d52121eeada8b0ec814</td>\n",
       "      <td>SOBRHVR12A8C133F35</td>\n",
       "      <td>2</td>\n",
       "    </tr>\n",
       "    <tr>\n",
       "      <th>1450930</th>\n",
       "      <td>5e650759ebf89012044c6d52121eeada8b0ec814</td>\n",
       "      <td>SOMGVYU12A8C1314FF</td>\n",
       "      <td>2</td>\n",
       "    </tr>\n",
       "    <tr>\n",
       "      <th>1450931</th>\n",
       "      <td>5e650759ebf89012044c6d52121eeada8b0ec814</td>\n",
       "      <td>SOTCMDJ12A6D4F8528</td>\n",
       "      <td>3</td>\n",
       "    </tr>\n",
       "  </tbody>\n",
       "</table>\n",
       "<p>1450932 rows × 3 columns</p>\n",
       "</div>"
      ],
      "text/plain": [
       "                                          user_id             song_id  \\\n",
       "0        fd50c4007b68a3737fe052d5a4f78ce8aa117f3d  SOEGIYH12A6D4FC0E3   \n",
       "1        fd50c4007b68a3737fe052d5a4f78ce8aa117f3d  SOFLJQZ12A6D4FADA6   \n",
       "2        fd50c4007b68a3737fe052d5a4f78ce8aa117f3d  SOHTKMO12AB01843B0   \n",
       "3        fd50c4007b68a3737fe052d5a4f78ce8aa117f3d  SODQZCY12A6D4F9D11   \n",
       "4        fd50c4007b68a3737fe052d5a4f78ce8aa117f3d  SOXLOQG12AF72A2D55   \n",
       "...                                           ...                 ...   \n",
       "1450927  5e650759ebf89012044c6d52121eeada8b0ec814  SOVLNXV12A6D4F706E   \n",
       "1450928  5e650759ebf89012044c6d52121eeada8b0ec814  SOVDSJC12A58A7A271   \n",
       "1450929  5e650759ebf89012044c6d52121eeada8b0ec814  SOBRHVR12A8C133F35   \n",
       "1450930  5e650759ebf89012044c6d52121eeada8b0ec814  SOMGVYU12A8C1314FF   \n",
       "1450931  5e650759ebf89012044c6d52121eeada8b0ec814  SOTCMDJ12A6D4F8528   \n",
       "\n",
       "         listen_count  \n",
       "0                   1  \n",
       "1                   1  \n",
       "2                   1  \n",
       "3                   1  \n",
       "4                   1  \n",
       "...               ...  \n",
       "1450927             1  \n",
       "1450928             2  \n",
       "1450929             2  \n",
       "1450930             2  \n",
       "1450931             3  \n",
       "\n",
       "[1450932 rows x 3 columns]"
      ]
     },
     "execution_count": 8,
     "metadata": {},
     "output_type": "execute_result"
    }
   ],
   "source": [
    "# frequency=no of times listened.\n",
    "\n",
    "triplets"
   ]
  },
  {
   "cell_type": "code",
   "execution_count": 9,
   "metadata": {},
   "outputs": [
    {
     "data": {
      "text/plain": [
       "(1450932, 3)"
      ]
     },
     "execution_count": 9,
     "metadata": {},
     "output_type": "execute_result"
    }
   ],
   "source": [
    "triplets.shape"
   ]
  },
  {
   "cell_type": "code",
   "execution_count": 10,
   "metadata": {},
   "outputs": [],
   "source": [
    "unique_tracks=pd.read_csv(r\"C:\\Users\\rohit\\Documents\\data\\kaggle\\unique_tracks.txt\", sep='<SEP>',names=['track_id','song_id','artist_name','song_name'] )"
   ]
  },
  {
   "cell_type": "code",
   "execution_count": 11,
   "metadata": {},
   "outputs": [
    {
     "data": {
      "text/html": [
       "<div>\n",
       "<style scoped>\n",
       "    .dataframe tbody tr th:only-of-type {\n",
       "        vertical-align: middle;\n",
       "    }\n",
       "\n",
       "    .dataframe tbody tr th {\n",
       "        vertical-align: top;\n",
       "    }\n",
       "\n",
       "    .dataframe thead th {\n",
       "        text-align: right;\n",
       "    }\n",
       "</style>\n",
       "<table border=\"1\" class=\"dataframe\">\n",
       "  <thead>\n",
       "    <tr style=\"text-align: right;\">\n",
       "      <th></th>\n",
       "      <th>track_id</th>\n",
       "      <th>song_id</th>\n",
       "      <th>artist_name</th>\n",
       "      <th>song_name</th>\n",
       "    </tr>\n",
       "  </thead>\n",
       "  <tbody>\n",
       "    <tr>\n",
       "      <th>0</th>\n",
       "      <td>TRMMMYQ128F932D901</td>\n",
       "      <td>SOQMMHC12AB0180CB8</td>\n",
       "      <td>Faster Pussy cat</td>\n",
       "      <td>Silent Night</td>\n",
       "    </tr>\n",
       "    <tr>\n",
       "      <th>1</th>\n",
       "      <td>TRMMMKD128F425225D</td>\n",
       "      <td>SOVFVAK12A8C1350D9</td>\n",
       "      <td>Karkkiautomaatti</td>\n",
       "      <td>Tanssi vaan</td>\n",
       "    </tr>\n",
       "    <tr>\n",
       "      <th>2</th>\n",
       "      <td>TRMMMRX128F93187D9</td>\n",
       "      <td>SOGTUKN12AB017F4F1</td>\n",
       "      <td>Hudson Mohawke</td>\n",
       "      <td>No One Could Ever</td>\n",
       "    </tr>\n",
       "    <tr>\n",
       "      <th>3</th>\n",
       "      <td>TRMMMCH128F425532C</td>\n",
       "      <td>SOBNYVR12A8C13558C</td>\n",
       "      <td>Yerba Brava</td>\n",
       "      <td>Si Vos QuerÃ©s</td>\n",
       "    </tr>\n",
       "    <tr>\n",
       "      <th>4</th>\n",
       "      <td>TRMMMWA128F426B589</td>\n",
       "      <td>SOHSBXH12A8C13B0DF</td>\n",
       "      <td>Der Mystic</td>\n",
       "      <td>Tangle Of Aspens</td>\n",
       "    </tr>\n",
       "    <tr>\n",
       "      <th>...</th>\n",
       "      <td>...</td>\n",
       "      <td>...</td>\n",
       "      <td>...</td>\n",
       "      <td>...</td>\n",
       "    </tr>\n",
       "    <tr>\n",
       "      <th>999995</th>\n",
       "      <td>TRYYYUS12903CD2DF0</td>\n",
       "      <td>SOTXAME12AB018F136</td>\n",
       "      <td>Kiko Navarro</td>\n",
       "      <td>O Samba Da Vida</td>\n",
       "    </tr>\n",
       "    <tr>\n",
       "      <th>999996</th>\n",
       "      <td>TRYYYJO128F426DA37</td>\n",
       "      <td>SOXQYIQ12A8C137FBB</td>\n",
       "      <td>Kuldeep Manak</td>\n",
       "      <td>Jago Chhadeo</td>\n",
       "    </tr>\n",
       "    <tr>\n",
       "      <th>999997</th>\n",
       "      <td>TRYYYMG128F4260ECA</td>\n",
       "      <td>SOHODZI12A8C137BB3</td>\n",
       "      <td>Gabriel Le Mar</td>\n",
       "      <td>Novemba</td>\n",
       "    </tr>\n",
       "    <tr>\n",
       "      <th>999998</th>\n",
       "      <td>TRYYYDJ128F9310A21</td>\n",
       "      <td>SOLXGOR12A81C21EB7</td>\n",
       "      <td>Elude</td>\n",
       "      <td>Faraday</td>\n",
       "    </tr>\n",
       "    <tr>\n",
       "      <th>999999</th>\n",
       "      <td>TRYYYVU12903CD01E3</td>\n",
       "      <td>SOWXJXQ12AB0189F43</td>\n",
       "      <td>Texta</td>\n",
       "      <td>Fernweh feat. Sektion KuchikÃ¤schtli</td>\n",
       "    </tr>\n",
       "  </tbody>\n",
       "</table>\n",
       "<p>1000000 rows × 4 columns</p>\n",
       "</div>"
      ],
      "text/plain": [
       "                  track_id             song_id       artist_name  \\\n",
       "0       TRMMMYQ128F932D901  SOQMMHC12AB0180CB8  Faster Pussy cat   \n",
       "1       TRMMMKD128F425225D  SOVFVAK12A8C1350D9  Karkkiautomaatti   \n",
       "2       TRMMMRX128F93187D9  SOGTUKN12AB017F4F1    Hudson Mohawke   \n",
       "3       TRMMMCH128F425532C  SOBNYVR12A8C13558C       Yerba Brava   \n",
       "4       TRMMMWA128F426B589  SOHSBXH12A8C13B0DF        Der Mystic   \n",
       "...                    ...                 ...               ...   \n",
       "999995  TRYYYUS12903CD2DF0  SOTXAME12AB018F136      Kiko Navarro   \n",
       "999996  TRYYYJO128F426DA37  SOXQYIQ12A8C137FBB     Kuldeep Manak   \n",
       "999997  TRYYYMG128F4260ECA  SOHODZI12A8C137BB3    Gabriel Le Mar   \n",
       "999998  TRYYYDJ128F9310A21  SOLXGOR12A81C21EB7             Elude   \n",
       "999999  TRYYYVU12903CD01E3  SOWXJXQ12AB0189F43             Texta   \n",
       "\n",
       "                                   song_name  \n",
       "0                               Silent Night  \n",
       "1                                Tanssi vaan  \n",
       "2                          No One Could Ever  \n",
       "3                             Si Vos QuerÃ©s  \n",
       "4                           Tangle Of Aspens  \n",
       "...                                      ...  \n",
       "999995                       O Samba Da Vida  \n",
       "999996                          Jago Chhadeo  \n",
       "999997                               Novemba  \n",
       "999998                               Faraday  \n",
       "999999  Fernweh feat. Sektion KuchikÃ¤schtli  \n",
       "\n",
       "[1000000 rows x 4 columns]"
      ]
     },
     "execution_count": 11,
     "metadata": {},
     "output_type": "execute_result"
    }
   ],
   "source": [
    "unique_tracks"
   ]
  },
  {
   "cell_type": "code",
   "execution_count": 12,
   "metadata": {},
   "outputs": [],
   "source": [
    "songs=pd.read_csv(r\"C:\\Users\\rohit\\Documents\\data\\kaggle\\kaggle_songs.txt\", names=['song_id'])"
   ]
  },
  {
   "cell_type": "code",
   "execution_count": 13,
   "metadata": {},
   "outputs": [
    {
     "data": {
      "text/html": [
       "<div>\n",
       "<style scoped>\n",
       "    .dataframe tbody tr th:only-of-type {\n",
       "        vertical-align: middle;\n",
       "    }\n",
       "\n",
       "    .dataframe tbody tr th {\n",
       "        vertical-align: top;\n",
       "    }\n",
       "\n",
       "    .dataframe thead th {\n",
       "        text-align: right;\n",
       "    }\n",
       "</style>\n",
       "<table border=\"1\" class=\"dataframe\">\n",
       "  <thead>\n",
       "    <tr style=\"text-align: right;\">\n",
       "      <th></th>\n",
       "      <th>song_id</th>\n",
       "    </tr>\n",
       "  </thead>\n",
       "  <tbody>\n",
       "    <tr>\n",
       "      <th>0</th>\n",
       "      <td>SOAAADD12AB018A9DD 1</td>\n",
       "    </tr>\n",
       "    <tr>\n",
       "      <th>1</th>\n",
       "      <td>SOAAADE12A6D4F80CC 2</td>\n",
       "    </tr>\n",
       "    <tr>\n",
       "      <th>2</th>\n",
       "      <td>SOAAADF12A8C13DF62 3</td>\n",
       "    </tr>\n",
       "    <tr>\n",
       "      <th>3</th>\n",
       "      <td>SOAAADZ12A8C1334FB 4</td>\n",
       "    </tr>\n",
       "    <tr>\n",
       "      <th>4</th>\n",
       "      <td>SOAAAFI12A6D4F9C66 5</td>\n",
       "    </tr>\n",
       "    <tr>\n",
       "      <th>...</th>\n",
       "      <td>...</td>\n",
       "    </tr>\n",
       "    <tr>\n",
       "      <th>386208</th>\n",
       "      <td>SOZZZRJ12AB0187A75 386209</td>\n",
       "    </tr>\n",
       "    <tr>\n",
       "      <th>386209</th>\n",
       "      <td>SOZZZRV12A8C1361F1 386210</td>\n",
       "    </tr>\n",
       "    <tr>\n",
       "      <th>386210</th>\n",
       "      <td>SOZZZSR12AB01854CD 386211</td>\n",
       "    </tr>\n",
       "    <tr>\n",
       "      <th>386211</th>\n",
       "      <td>SOZZZWD12A6D4F6624 386212</td>\n",
       "    </tr>\n",
       "    <tr>\n",
       "      <th>386212</th>\n",
       "      <td>SOZZZWN12AF72A1E29 386213</td>\n",
       "    </tr>\n",
       "  </tbody>\n",
       "</table>\n",
       "<p>386213 rows × 1 columns</p>\n",
       "</div>"
      ],
      "text/plain": [
       "                          song_id\n",
       "0            SOAAADD12AB018A9DD 1\n",
       "1            SOAAADE12A6D4F80CC 2\n",
       "2            SOAAADF12A8C13DF62 3\n",
       "3            SOAAADZ12A8C1334FB 4\n",
       "4            SOAAAFI12A6D4F9C66 5\n",
       "...                           ...\n",
       "386208  SOZZZRJ12AB0187A75 386209\n",
       "386209  SOZZZRV12A8C1361F1 386210\n",
       "386210  SOZZZSR12AB01854CD 386211\n",
       "386211  SOZZZWD12A6D4F6624 386212\n",
       "386212  SOZZZWN12AF72A1E29 386213\n",
       "\n",
       "[386213 rows x 1 columns]"
      ]
     },
     "execution_count": 13,
     "metadata": {},
     "output_type": "execute_result"
    }
   ],
   "source": [
    "songs"
   ]
  },
  {
   "cell_type": "code",
   "execution_count": 14,
   "metadata": {},
   "outputs": [],
   "source": [
    "users=pd.read_csv(r\"C:\\Users\\rohit\\Documents\\data\\kaggle\\kaggle_users.txt\", names=['user_id'])"
   ]
  },
  {
   "cell_type": "code",
   "execution_count": 15,
   "metadata": {},
   "outputs": [
    {
     "data": {
      "text/html": [
       "<div>\n",
       "<style scoped>\n",
       "    .dataframe tbody tr th:only-of-type {\n",
       "        vertical-align: middle;\n",
       "    }\n",
       "\n",
       "    .dataframe tbody tr th {\n",
       "        vertical-align: top;\n",
       "    }\n",
       "\n",
       "    .dataframe thead th {\n",
       "        text-align: right;\n",
       "    }\n",
       "</style>\n",
       "<table border=\"1\" class=\"dataframe\">\n",
       "  <thead>\n",
       "    <tr style=\"text-align: right;\">\n",
       "      <th></th>\n",
       "      <th>user_id</th>\n",
       "    </tr>\n",
       "  </thead>\n",
       "  <tbody>\n",
       "    <tr>\n",
       "      <th>0</th>\n",
       "      <td>fd50c4007b68a3737fe052d5a4f78ce8aa117f3d</td>\n",
       "    </tr>\n",
       "    <tr>\n",
       "      <th>1</th>\n",
       "      <td>d7083f5e1d50c264277d624340edaaf3dc16095b</td>\n",
       "    </tr>\n",
       "    <tr>\n",
       "      <th>2</th>\n",
       "      <td>d68dc6fc25248234590d7668a11e3335534ae4b4</td>\n",
       "    </tr>\n",
       "    <tr>\n",
       "      <th>3</th>\n",
       "      <td>9be82340a8b5ef32357fe5af957ccd54736ece95</td>\n",
       "    </tr>\n",
       "    <tr>\n",
       "      <th>4</th>\n",
       "      <td>841b2394ae3a9febbd6b06497b4a8ee8eb24b7f8</td>\n",
       "    </tr>\n",
       "    <tr>\n",
       "      <th>...</th>\n",
       "      <td>...</td>\n",
       "    </tr>\n",
       "    <tr>\n",
       "      <th>109995</th>\n",
       "      <td>07f2f354a2a4390624e0d04e4a555ef67e98f673</td>\n",
       "    </tr>\n",
       "    <tr>\n",
       "      <th>109996</th>\n",
       "      <td>fe752b1aa2a12dbc203c37b70881d88481c655f1</td>\n",
       "    </tr>\n",
       "    <tr>\n",
       "      <th>109997</th>\n",
       "      <td>ab79461415bb9db956def3a897886d0754ddddfb</td>\n",
       "    </tr>\n",
       "    <tr>\n",
       "      <th>109998</th>\n",
       "      <td>fc072bde2043756ea30ff07e4a5311e34825b4df</td>\n",
       "    </tr>\n",
       "    <tr>\n",
       "      <th>109999</th>\n",
       "      <td>5e650759ebf89012044c6d52121eeada8b0ec814</td>\n",
       "    </tr>\n",
       "  </tbody>\n",
       "</table>\n",
       "<p>110000 rows × 1 columns</p>\n",
       "</div>"
      ],
      "text/plain": [
       "                                         user_id\n",
       "0       fd50c4007b68a3737fe052d5a4f78ce8aa117f3d\n",
       "1       d7083f5e1d50c264277d624340edaaf3dc16095b\n",
       "2       d68dc6fc25248234590d7668a11e3335534ae4b4\n",
       "3       9be82340a8b5ef32357fe5af957ccd54736ece95\n",
       "4       841b2394ae3a9febbd6b06497b4a8ee8eb24b7f8\n",
       "...                                          ...\n",
       "109995  07f2f354a2a4390624e0d04e4a555ef67e98f673\n",
       "109996  fe752b1aa2a12dbc203c37b70881d88481c655f1\n",
       "109997  ab79461415bb9db956def3a897886d0754ddddfb\n",
       "109998  fc072bde2043756ea30ff07e4a5311e34825b4df\n",
       "109999  5e650759ebf89012044c6d52121eeada8b0ec814\n",
       "\n",
       "[110000 rows x 1 columns]"
      ]
     },
     "execution_count": 15,
     "metadata": {},
     "output_type": "execute_result"
    }
   ],
   "source": [
    "users"
   ]
  },
  {
   "cell_type": "code",
   "execution_count": 16,
   "metadata": {},
   "outputs": [
    {
     "name": "stdout",
     "output_type": "stream",
     "text": [
      "(1450932, 3)\n",
      "(1000000, 4)\n"
     ]
    }
   ],
   "source": [
    "print(triplets.shape)\n",
    "print(unique_tracks.shape)"
   ]
  },
  {
   "cell_type": "markdown",
   "metadata": {},
   "source": [
    "### Merging triplets data set with unique_tracks data based on song_id. So, that it gives the data of all song_id's by merging data containing same song_id into one"
   ]
  },
  {
   "cell_type": "code",
   "execution_count": 17,
   "metadata": {
    "scrolled": false
   },
   "outputs": [
    {
     "data": {
      "text/html": [
       "<div>\n",
       "<style scoped>\n",
       "    .dataframe tbody tr th:only-of-type {\n",
       "        vertical-align: middle;\n",
       "    }\n",
       "\n",
       "    .dataframe tbody tr th {\n",
       "        vertical-align: top;\n",
       "    }\n",
       "\n",
       "    .dataframe thead th {\n",
       "        text-align: right;\n",
       "    }\n",
       "</style>\n",
       "<table border=\"1\" class=\"dataframe\">\n",
       "  <thead>\n",
       "    <tr style=\"text-align: right;\">\n",
       "      <th></th>\n",
       "      <th>user_id</th>\n",
       "      <th>song_id</th>\n",
       "      <th>listen_count</th>\n",
       "      <th>track_id</th>\n",
       "      <th>artist_name</th>\n",
       "      <th>song_name</th>\n",
       "    </tr>\n",
       "  </thead>\n",
       "  <tbody>\n",
       "    <tr>\n",
       "      <th>0</th>\n",
       "      <td>fd50c4007b68a3737fe052d5a4f78ce8aa117f3d</td>\n",
       "      <td>SOEGIYH12A6D4FC0E3</td>\n",
       "      <td>1</td>\n",
       "      <td>TRLGMFJ128F4217DBE</td>\n",
       "      <td>Barry Tuckwell/Academy of St Martin-in-the-Fie...</td>\n",
       "      <td>Horn Concerto No. 4 in E flat K495: II. Romanc...</td>\n",
       "    </tr>\n",
       "    <tr>\n",
       "      <th>1</th>\n",
       "      <td>248378ac27e1745d6a9d59392b7dc5b02a6186a6</td>\n",
       "      <td>SOEGIYH12A6D4FC0E3</td>\n",
       "      <td>1</td>\n",
       "      <td>TRLGMFJ128F4217DBE</td>\n",
       "      <td>Barry Tuckwell/Academy of St Martin-in-the-Fie...</td>\n",
       "      <td>Horn Concerto No. 4 in E flat K495: II. Romanc...</td>\n",
       "    </tr>\n",
       "    <tr>\n",
       "      <th>2</th>\n",
       "      <td>7c49f3e11a6fce79ae60b44df2a3edcf6eb2e163</td>\n",
       "      <td>SOEGIYH12A6D4FC0E3</td>\n",
       "      <td>1</td>\n",
       "      <td>TRLGMFJ128F4217DBE</td>\n",
       "      <td>Barry Tuckwell/Academy of St Martin-in-the-Fie...</td>\n",
       "      <td>Horn Concerto No. 4 in E flat K495: II. Romanc...</td>\n",
       "    </tr>\n",
       "    <tr>\n",
       "      <th>3</th>\n",
       "      <td>8061f61372876878c2d67bc49b3ddbd2c83d69e2</td>\n",
       "      <td>SOEGIYH12A6D4FC0E3</td>\n",
       "      <td>1</td>\n",
       "      <td>TRLGMFJ128F4217DBE</td>\n",
       "      <td>Barry Tuckwell/Academy of St Martin-in-the-Fie...</td>\n",
       "      <td>Horn Concerto No. 4 in E flat K495: II. Romanc...</td>\n",
       "    </tr>\n",
       "    <tr>\n",
       "      <th>4</th>\n",
       "      <td>d47c829c4ff6270f9ab82ca36b2805951b62a208</td>\n",
       "      <td>SOEGIYH12A6D4FC0E3</td>\n",
       "      <td>1</td>\n",
       "      <td>TRLGMFJ128F4217DBE</td>\n",
       "      <td>Barry Tuckwell/Academy of St Martin-in-the-Fie...</td>\n",
       "      <td>Horn Concerto No. 4 in E flat K495: II. Romanc...</td>\n",
       "    </tr>\n",
       "    <tr>\n",
       "      <th>...</th>\n",
       "      <td>...</td>\n",
       "      <td>...</td>\n",
       "      <td>...</td>\n",
       "      <td>...</td>\n",
       "      <td>...</td>\n",
       "      <td>...</td>\n",
       "    </tr>\n",
       "    <tr>\n",
       "      <th>1491946</th>\n",
       "      <td>9d2f78e2bda5a004879d3ee53ee7de5cdf99c730</td>\n",
       "      <td>SOIDWNE12A8C13E669</td>\n",
       "      <td>1</td>\n",
       "      <td>TRZHWHD128F42B9D11</td>\n",
       "      <td>Our Broken Garden</td>\n",
       "      <td>The Blinding</td>\n",
       "    </tr>\n",
       "    <tr>\n",
       "      <th>1491947</th>\n",
       "      <td>987b654b09b239f7c47751e0cfaa2990834cbb55</td>\n",
       "      <td>SOATNWN12A6D4F826F</td>\n",
       "      <td>1</td>\n",
       "      <td>TRNBQWA128F145DB74</td>\n",
       "      <td>Emilio</td>\n",
       "      <td>Como A Nadie</td>\n",
       "    </tr>\n",
       "    <tr>\n",
       "      <th>1491948</th>\n",
       "      <td>987b654b09b239f7c47751e0cfaa2990834cbb55</td>\n",
       "      <td>SOGMCFE12AB018A3A1</td>\n",
       "      <td>3</td>\n",
       "      <td>TRIWGAI12903CDF710</td>\n",
       "      <td>Morbid Angel</td>\n",
       "      <td>Victorious March Of Reign The Conqueror</td>\n",
       "    </tr>\n",
       "    <tr>\n",
       "      <th>1491949</th>\n",
       "      <td>fc072bde2043756ea30ff07e4a5311e34825b4df</td>\n",
       "      <td>SOBAOTU12A6D4F7A68</td>\n",
       "      <td>1</td>\n",
       "      <td>TRMPODL128F4228DE1</td>\n",
       "      <td>Gus Gus</td>\n",
       "      <td>Call of the Wild</td>\n",
       "    </tr>\n",
       "    <tr>\n",
       "      <th>1491950</th>\n",
       "      <td>fc072bde2043756ea30ff07e4a5311e34825b4df</td>\n",
       "      <td>SOGWSIO12A8C133A5B</td>\n",
       "      <td>1</td>\n",
       "      <td>TRBOBJP128F423F082</td>\n",
       "      <td>Gus Gus</td>\n",
       "      <td>Snoozer</td>\n",
       "    </tr>\n",
       "  </tbody>\n",
       "</table>\n",
       "<p>1491951 rows × 6 columns</p>\n",
       "</div>"
      ],
      "text/plain": [
       "                                          user_id             song_id  \\\n",
       "0        fd50c4007b68a3737fe052d5a4f78ce8aa117f3d  SOEGIYH12A6D4FC0E3   \n",
       "1        248378ac27e1745d6a9d59392b7dc5b02a6186a6  SOEGIYH12A6D4FC0E3   \n",
       "2        7c49f3e11a6fce79ae60b44df2a3edcf6eb2e163  SOEGIYH12A6D4FC0E3   \n",
       "3        8061f61372876878c2d67bc49b3ddbd2c83d69e2  SOEGIYH12A6D4FC0E3   \n",
       "4        d47c829c4ff6270f9ab82ca36b2805951b62a208  SOEGIYH12A6D4FC0E3   \n",
       "...                                           ...                 ...   \n",
       "1491946  9d2f78e2bda5a004879d3ee53ee7de5cdf99c730  SOIDWNE12A8C13E669   \n",
       "1491947  987b654b09b239f7c47751e0cfaa2990834cbb55  SOATNWN12A6D4F826F   \n",
       "1491948  987b654b09b239f7c47751e0cfaa2990834cbb55  SOGMCFE12AB018A3A1   \n",
       "1491949  fc072bde2043756ea30ff07e4a5311e34825b4df  SOBAOTU12A6D4F7A68   \n",
       "1491950  fc072bde2043756ea30ff07e4a5311e34825b4df  SOGWSIO12A8C133A5B   \n",
       "\n",
       "         listen_count            track_id  \\\n",
       "0                   1  TRLGMFJ128F4217DBE   \n",
       "1                   1  TRLGMFJ128F4217DBE   \n",
       "2                   1  TRLGMFJ128F4217DBE   \n",
       "3                   1  TRLGMFJ128F4217DBE   \n",
       "4                   1  TRLGMFJ128F4217DBE   \n",
       "...               ...                 ...   \n",
       "1491946             1  TRZHWHD128F42B9D11   \n",
       "1491947             1  TRNBQWA128F145DB74   \n",
       "1491948             3  TRIWGAI12903CDF710   \n",
       "1491949             1  TRMPODL128F4228DE1   \n",
       "1491950             1  TRBOBJP128F423F082   \n",
       "\n",
       "                                               artist_name  \\\n",
       "0        Barry Tuckwell/Academy of St Martin-in-the-Fie...   \n",
       "1        Barry Tuckwell/Academy of St Martin-in-the-Fie...   \n",
       "2        Barry Tuckwell/Academy of St Martin-in-the-Fie...   \n",
       "3        Barry Tuckwell/Academy of St Martin-in-the-Fie...   \n",
       "4        Barry Tuckwell/Academy of St Martin-in-the-Fie...   \n",
       "...                                                    ...   \n",
       "1491946                                  Our Broken Garden   \n",
       "1491947                                             Emilio   \n",
       "1491948                                       Morbid Angel   \n",
       "1491949                                            Gus Gus   \n",
       "1491950                                            Gus Gus   \n",
       "\n",
       "                                                 song_name  \n",
       "0        Horn Concerto No. 4 in E flat K495: II. Romanc...  \n",
       "1        Horn Concerto No. 4 in E flat K495: II. Romanc...  \n",
       "2        Horn Concerto No. 4 in E flat K495: II. Romanc...  \n",
       "3        Horn Concerto No. 4 in E flat K495: II. Romanc...  \n",
       "4        Horn Concerto No. 4 in E flat K495: II. Romanc...  \n",
       "...                                                    ...  \n",
       "1491946                                       The Blinding  \n",
       "1491947                                       Como A Nadie  \n",
       "1491948            Victorious March Of Reign The Conqueror  \n",
       "1491949                                   Call of the Wild  \n",
       "1491950                                            Snoozer  \n",
       "\n",
       "[1491951 rows x 6 columns]"
      ]
     },
     "execution_count": 17,
     "metadata": {},
     "output_type": "execute_result"
    }
   ],
   "source": [
    "df=pd.merge(triplets,unique_tracks,on='song_id')\n",
    "df"
   ]
  },
  {
   "cell_type": "markdown",
   "metadata": {},
   "source": [
    "### Dropping track_id column as both song_id and track_id represents similar features."
   ]
  },
  {
   "cell_type": "code",
   "execution_count": 18,
   "metadata": {},
   "outputs": [],
   "source": [
    "df.drop('track_id', axis=1, inplace=True)"
   ]
  },
  {
   "cell_type": "code",
   "execution_count": 19,
   "metadata": {},
   "outputs": [
    {
     "data": {
      "text/html": [
       "<div>\n",
       "<style scoped>\n",
       "    .dataframe tbody tr th:only-of-type {\n",
       "        vertical-align: middle;\n",
       "    }\n",
       "\n",
       "    .dataframe tbody tr th {\n",
       "        vertical-align: top;\n",
       "    }\n",
       "\n",
       "    .dataframe thead th {\n",
       "        text-align: right;\n",
       "    }\n",
       "</style>\n",
       "<table border=\"1\" class=\"dataframe\">\n",
       "  <thead>\n",
       "    <tr style=\"text-align: right;\">\n",
       "      <th></th>\n",
       "      <th>user_id</th>\n",
       "      <th>song_id</th>\n",
       "      <th>listen_count</th>\n",
       "      <th>artist_name</th>\n",
       "      <th>song_name</th>\n",
       "    </tr>\n",
       "  </thead>\n",
       "  <tbody>\n",
       "    <tr>\n",
       "      <th>0</th>\n",
       "      <td>fd50c4007b68a3737fe052d5a4f78ce8aa117f3d</td>\n",
       "      <td>SOEGIYH12A6D4FC0E3</td>\n",
       "      <td>1</td>\n",
       "      <td>Barry Tuckwell/Academy of St Martin-in-the-Fie...</td>\n",
       "      <td>Horn Concerto No. 4 in E flat K495: II. Romanc...</td>\n",
       "    </tr>\n",
       "    <tr>\n",
       "      <th>1</th>\n",
       "      <td>248378ac27e1745d6a9d59392b7dc5b02a6186a6</td>\n",
       "      <td>SOEGIYH12A6D4FC0E3</td>\n",
       "      <td>1</td>\n",
       "      <td>Barry Tuckwell/Academy of St Martin-in-the-Fie...</td>\n",
       "      <td>Horn Concerto No. 4 in E flat K495: II. Romanc...</td>\n",
       "    </tr>\n",
       "    <tr>\n",
       "      <th>2</th>\n",
       "      <td>7c49f3e11a6fce79ae60b44df2a3edcf6eb2e163</td>\n",
       "      <td>SOEGIYH12A6D4FC0E3</td>\n",
       "      <td>1</td>\n",
       "      <td>Barry Tuckwell/Academy of St Martin-in-the-Fie...</td>\n",
       "      <td>Horn Concerto No. 4 in E flat K495: II. Romanc...</td>\n",
       "    </tr>\n",
       "    <tr>\n",
       "      <th>3</th>\n",
       "      <td>8061f61372876878c2d67bc49b3ddbd2c83d69e2</td>\n",
       "      <td>SOEGIYH12A6D4FC0E3</td>\n",
       "      <td>1</td>\n",
       "      <td>Barry Tuckwell/Academy of St Martin-in-the-Fie...</td>\n",
       "      <td>Horn Concerto No. 4 in E flat K495: II. Romanc...</td>\n",
       "    </tr>\n",
       "    <tr>\n",
       "      <th>4</th>\n",
       "      <td>d47c829c4ff6270f9ab82ca36b2805951b62a208</td>\n",
       "      <td>SOEGIYH12A6D4FC0E3</td>\n",
       "      <td>1</td>\n",
       "      <td>Barry Tuckwell/Academy of St Martin-in-the-Fie...</td>\n",
       "      <td>Horn Concerto No. 4 in E flat K495: II. Romanc...</td>\n",
       "    </tr>\n",
       "    <tr>\n",
       "      <th>...</th>\n",
       "      <td>...</td>\n",
       "      <td>...</td>\n",
       "      <td>...</td>\n",
       "      <td>...</td>\n",
       "      <td>...</td>\n",
       "    </tr>\n",
       "    <tr>\n",
       "      <th>1491946</th>\n",
       "      <td>9d2f78e2bda5a004879d3ee53ee7de5cdf99c730</td>\n",
       "      <td>SOIDWNE12A8C13E669</td>\n",
       "      <td>1</td>\n",
       "      <td>Our Broken Garden</td>\n",
       "      <td>The Blinding</td>\n",
       "    </tr>\n",
       "    <tr>\n",
       "      <th>1491947</th>\n",
       "      <td>987b654b09b239f7c47751e0cfaa2990834cbb55</td>\n",
       "      <td>SOATNWN12A6D4F826F</td>\n",
       "      <td>1</td>\n",
       "      <td>Emilio</td>\n",
       "      <td>Como A Nadie</td>\n",
       "    </tr>\n",
       "    <tr>\n",
       "      <th>1491948</th>\n",
       "      <td>987b654b09b239f7c47751e0cfaa2990834cbb55</td>\n",
       "      <td>SOGMCFE12AB018A3A1</td>\n",
       "      <td>3</td>\n",
       "      <td>Morbid Angel</td>\n",
       "      <td>Victorious March Of Reign The Conqueror</td>\n",
       "    </tr>\n",
       "    <tr>\n",
       "      <th>1491949</th>\n",
       "      <td>fc072bde2043756ea30ff07e4a5311e34825b4df</td>\n",
       "      <td>SOBAOTU12A6D4F7A68</td>\n",
       "      <td>1</td>\n",
       "      <td>Gus Gus</td>\n",
       "      <td>Call of the Wild</td>\n",
       "    </tr>\n",
       "    <tr>\n",
       "      <th>1491950</th>\n",
       "      <td>fc072bde2043756ea30ff07e4a5311e34825b4df</td>\n",
       "      <td>SOGWSIO12A8C133A5B</td>\n",
       "      <td>1</td>\n",
       "      <td>Gus Gus</td>\n",
       "      <td>Snoozer</td>\n",
       "    </tr>\n",
       "  </tbody>\n",
       "</table>\n",
       "<p>1491951 rows × 5 columns</p>\n",
       "</div>"
      ],
      "text/plain": [
       "                                          user_id             song_id  \\\n",
       "0        fd50c4007b68a3737fe052d5a4f78ce8aa117f3d  SOEGIYH12A6D4FC0E3   \n",
       "1        248378ac27e1745d6a9d59392b7dc5b02a6186a6  SOEGIYH12A6D4FC0E3   \n",
       "2        7c49f3e11a6fce79ae60b44df2a3edcf6eb2e163  SOEGIYH12A6D4FC0E3   \n",
       "3        8061f61372876878c2d67bc49b3ddbd2c83d69e2  SOEGIYH12A6D4FC0E3   \n",
       "4        d47c829c4ff6270f9ab82ca36b2805951b62a208  SOEGIYH12A6D4FC0E3   \n",
       "...                                           ...                 ...   \n",
       "1491946  9d2f78e2bda5a004879d3ee53ee7de5cdf99c730  SOIDWNE12A8C13E669   \n",
       "1491947  987b654b09b239f7c47751e0cfaa2990834cbb55  SOATNWN12A6D4F826F   \n",
       "1491948  987b654b09b239f7c47751e0cfaa2990834cbb55  SOGMCFE12AB018A3A1   \n",
       "1491949  fc072bde2043756ea30ff07e4a5311e34825b4df  SOBAOTU12A6D4F7A68   \n",
       "1491950  fc072bde2043756ea30ff07e4a5311e34825b4df  SOGWSIO12A8C133A5B   \n",
       "\n",
       "         listen_count                                        artist_name  \\\n",
       "0                   1  Barry Tuckwell/Academy of St Martin-in-the-Fie...   \n",
       "1                   1  Barry Tuckwell/Academy of St Martin-in-the-Fie...   \n",
       "2                   1  Barry Tuckwell/Academy of St Martin-in-the-Fie...   \n",
       "3                   1  Barry Tuckwell/Academy of St Martin-in-the-Fie...   \n",
       "4                   1  Barry Tuckwell/Academy of St Martin-in-the-Fie...   \n",
       "...               ...                                                ...   \n",
       "1491946             1                                  Our Broken Garden   \n",
       "1491947             1                                             Emilio   \n",
       "1491948             3                                       Morbid Angel   \n",
       "1491949             1                                            Gus Gus   \n",
       "1491950             1                                            Gus Gus   \n",
       "\n",
       "                                                 song_name  \n",
       "0        Horn Concerto No. 4 in E flat K495: II. Romanc...  \n",
       "1        Horn Concerto No. 4 in E flat K495: II. Romanc...  \n",
       "2        Horn Concerto No. 4 in E flat K495: II. Romanc...  \n",
       "3        Horn Concerto No. 4 in E flat K495: II. Romanc...  \n",
       "4        Horn Concerto No. 4 in E flat K495: II. Romanc...  \n",
       "...                                                    ...  \n",
       "1491946                                       The Blinding  \n",
       "1491947                                       Como A Nadie  \n",
       "1491948            Victorious March Of Reign The Conqueror  \n",
       "1491949                                   Call of the Wild  \n",
       "1491950                                            Snoozer  \n",
       "\n",
       "[1491951 rows x 5 columns]"
      ]
     },
     "execution_count": 19,
     "metadata": {},
     "output_type": "execute_result"
    }
   ],
   "source": [
    "df"
   ]
  },
  {
   "cell_type": "code",
   "execution_count": 20,
   "metadata": {},
   "outputs": [
    {
     "data": {
      "text/plain": [
       "(1491951, 5)"
      ]
     },
     "execution_count": 20,
     "metadata": {},
     "output_type": "execute_result"
    }
   ],
   "source": [
    "df.shape"
   ]
  },
  {
   "cell_type": "code",
   "execution_count": 21,
   "metadata": {},
   "outputs": [
    {
     "data": {
      "text/plain": [
       "user_id         object\n",
       "song_id         object\n",
       "listen_count     int64\n",
       "artist_name     object\n",
       "song_name       object\n",
       "dtype: object"
      ]
     },
     "execution_count": 21,
     "metadata": {},
     "output_type": "execute_result"
    }
   ],
   "source": [
    "df.dtypes"
   ]
  },
  {
   "cell_type": "markdown",
   "metadata": {},
   "source": [
    "### Checking out Missing values and duplicates values present in given data files.\n",
    "(DATA WRANGLING)//(MISSING VALUE TREATMENT)"
   ]
  },
  {
   "cell_type": "code",
   "execution_count": 22,
   "metadata": {},
   "outputs": [
    {
     "name": "stdout",
     "output_type": "stream",
     "text": [
      "1\n"
     ]
    }
   ],
   "source": [
    "print(sum(df.isnull().any()))"
   ]
  },
  {
   "cell_type": "code",
   "execution_count": 23,
   "metadata": {},
   "outputs": [
    {
     "name": "stdout",
     "output_type": "stream",
     "text": [
      "0\n"
     ]
    }
   ],
   "source": [
    "print(sum(triplets.duplicated()))"
   ]
  },
  {
   "cell_type": "code",
   "execution_count": 24,
   "metadata": {},
   "outputs": [
    {
     "name": "stdout",
     "output_type": "stream",
     "text": [
      "0\n"
     ]
    }
   ],
   "source": [
    "print(sum(unique_tracks.duplicated()))"
   ]
  },
  {
   "cell_type": "code",
   "execution_count": 25,
   "metadata": {},
   "outputs": [
    {
     "name": "stdout",
     "output_type": "stream",
     "text": [
      "0\n"
     ]
    }
   ],
   "source": [
    "print(sum(songs.duplicated()))"
   ]
  },
  {
   "cell_type": "code",
   "execution_count": 26,
   "metadata": {},
   "outputs": [
    {
     "name": "stdout",
     "output_type": "stream",
     "text": [
      "944\n"
     ]
    }
   ],
   "source": [
    "print(sum(unique_tracks[\"song_id\"].duplicated()))"
   ]
  },
  {
   "cell_type": "markdown",
   "metadata": {},
   "source": [
    "### Checking for list of features along with count of null values"
   ]
  },
  {
   "cell_type": "code",
   "execution_count": 27,
   "metadata": {},
   "outputs": [
    {
     "name": "stdout",
     "output_type": "stream",
     "text": [
      "user_id         0\n",
      "song_id         0\n",
      "listen_count    0\n",
      "artist_name     0\n",
      "song_name       1\n",
      "dtype: int64 \n",
      "\n",
      "percentage of null values\n",
      "\n",
      " user_id         0.000000\n",
      "song_id         0.000000\n",
      "listen_count    0.000000\n",
      "artist_name     0.000000\n",
      "song_name       0.000067\n",
      "dtype: float64\n"
     ]
    }
   ],
   "source": [
    "print(df.isna().sum(), '\\n')\n",
    "print('percentage of null values'\"\\n\\n\",df.isna().sum()/len(df)*100)"
   ]
  },
  {
   "cell_type": "markdown",
   "metadata": {},
   "source": [
    "-  Removing null values from the dataset is one of the important steps in data wrangling. These null values adversely affect the performance and accuracy of any machine learning algorithm. So, it is very important to remove null values from the dataset before applying any machine learning algorithm to that dataset."
   ]
  },
  {
   "cell_type": "markdown",
   "metadata": {},
   "source": [
    "### We see that song_name column contains 1 null value out of 1491951 rows / observations. \n",
    "### So, it is better to drop that row from the dataset. Lets drop it."
   ]
  },
  {
   "cell_type": "code",
   "execution_count": 28,
   "metadata": {},
   "outputs": [],
   "source": [
    "df.dropna(axis=0,how='any',inplace=True)"
   ]
  },
  {
   "cell_type": "code",
   "execution_count": 29,
   "metadata": {},
   "outputs": [
    {
     "data": {
      "text/plain": [
       "(1491950, 5)"
      ]
     },
     "execution_count": 29,
     "metadata": {},
     "output_type": "execute_result"
    }
   ],
   "source": [
    "df.shape"
   ]
  },
  {
   "cell_type": "markdown",
   "metadata": {},
   "source": [
    "### Now dataset does not contain any null value. This step is not recommended but just for illustration we do it."
   ]
  },
  {
   "cell_type": "code",
   "execution_count": 30,
   "metadata": {},
   "outputs": [
    {
     "name": "stdout",
     "output_type": "stream",
     "text": [
      "user_id         0\n",
      "song_id         0\n",
      "listen_count    0\n",
      "artist_name     0\n",
      "song_name       0\n",
      "dtype: int64 \n",
      "\n",
      "percentage of null values\n",
      "\n",
      " user_id         0.0\n",
      "song_id         0.0\n",
      "listen_count    0.0\n",
      "artist_name     0.0\n",
      "song_name       0.0\n",
      "dtype: float64\n"
     ]
    }
   ],
   "source": [
    "print(df.isna().sum(),\"\\n\")\n",
    "print('percentage of null values'\"\\n\\n\",df.isna().sum()/len(df)*100)"
   ]
  },
  {
   "cell_type": "code",
   "execution_count": 31,
   "metadata": {},
   "outputs": [
    {
     "name": "stdout",
     "output_type": "stream",
     "text": [
      "Total no.of songs : 163205\n",
      "Total no.of users : 110000\n"
     ]
    }
   ],
   "source": [
    "print('Total no.of songs :',df['song_id'].nunique())\n",
    "print('Total no.of users :',df['user_id'].nunique())"
   ]
  },
  {
   "cell_type": "code",
   "execution_count": 32,
   "metadata": {},
   "outputs": [
    {
     "name": "stdout",
     "output_type": "stream",
     "text": [
      "Total no.of points : 1491950\n"
     ]
    }
   ],
   "source": [
    "print('Total no.of points :',df.shape[0])"
   ]
  },
  {
   "cell_type": "markdown",
   "metadata": {},
   "source": [
    "### Checking for duplicates in dataset."
   ]
  },
  {
   "cell_type": "code",
   "execution_count": 33,
   "metadata": {},
   "outputs": [
    {
     "data": {
      "text/plain": [
       "0          False\n",
       "1          False\n",
       "2          False\n",
       "3          False\n",
       "4          False\n",
       "           ...  \n",
       "1491946    False\n",
       "1491947    False\n",
       "1491948    False\n",
       "1491949    False\n",
       "1491950    False\n",
       "Length: 1491950, dtype: bool"
      ]
     },
     "execution_count": 33,
     "metadata": {},
     "output_type": "execute_result"
    }
   ],
   "source": [
    "df.duplicated()"
   ]
  },
  {
   "cell_type": "markdown",
   "metadata": {},
   "source": [
    "### Dropping duplicate values from dataset"
   ]
  },
  {
   "cell_type": "code",
   "execution_count": 34,
   "metadata": {},
   "outputs": [],
   "source": [
    "df.drop_duplicates(keep='first', inplace=True)"
   ]
  },
  {
   "cell_type": "code",
   "execution_count": 35,
   "metadata": {},
   "outputs": [
    {
     "data": {
      "text/plain": [
       "(1456563, 5)"
      ]
     },
     "execution_count": 35,
     "metadata": {},
     "output_type": "execute_result"
    }
   ],
   "source": [
    "df.shape"
   ]
  },
  {
   "cell_type": "markdown",
   "metadata": {},
   "source": [
    "### Calculating the percent share of each song in listen_count."
   ]
  },
  {
   "cell_type": "code",
   "execution_count": 36,
   "metadata": {},
   "outputs": [],
   "source": [
    "df['percentage'] = df['listen_count'].div(df['listen_count'].sum())*100"
   ]
  },
  {
   "cell_type": "code",
   "execution_count": 37,
   "metadata": {
    "scrolled": false
   },
   "outputs": [
    {
     "data": {
      "text/plain": [
       "0          0.000022\n",
       "1          0.000022\n",
       "2          0.000022\n",
       "3          0.000022\n",
       "4          0.000022\n",
       "             ...   \n",
       "1491946    0.000022\n",
       "1491947    0.000022\n",
       "1491948    0.000065\n",
       "1491949    0.000022\n",
       "1491950    0.000022\n",
       "Name: percentage, Length: 1456563, dtype: float64"
      ]
     },
     "execution_count": 37,
     "metadata": {},
     "output_type": "execute_result"
    }
   ],
   "source": [
    "df['percentage']"
   ]
  },
  {
   "cell_type": "markdown",
   "metadata": {},
   "source": [
    "### Sorting the dataset with respect to listen_count"
   ]
  },
  {
   "cell_type": "code",
   "execution_count": 38,
   "metadata": {},
   "outputs": [
    {
     "data": {
      "text/html": [
       "<div>\n",
       "<style scoped>\n",
       "    .dataframe tbody tr th:only-of-type {\n",
       "        vertical-align: middle;\n",
       "    }\n",
       "\n",
       "    .dataframe tbody tr th {\n",
       "        vertical-align: top;\n",
       "    }\n",
       "\n",
       "    .dataframe thead th {\n",
       "        text-align: right;\n",
       "    }\n",
       "</style>\n",
       "<table border=\"1\" class=\"dataframe\">\n",
       "  <thead>\n",
       "    <tr style=\"text-align: right;\">\n",
       "      <th></th>\n",
       "      <th>user_id</th>\n",
       "      <th>song_id</th>\n",
       "      <th>listen_count</th>\n",
       "      <th>artist_name</th>\n",
       "      <th>song_name</th>\n",
       "      <th>percentage</th>\n",
       "    </tr>\n",
       "  </thead>\n",
       "  <tbody>\n",
       "    <tr>\n",
       "      <th>0</th>\n",
       "      <td>fd50c4007b68a3737fe052d5a4f78ce8aa117f3d</td>\n",
       "      <td>SOEGIYH12A6D4FC0E3</td>\n",
       "      <td>1</td>\n",
       "      <td>Barry Tuckwell/Academy of St Martin-in-the-Fie...</td>\n",
       "      <td>Horn Concerto No. 4 in E flat K495: II. Romanc...</td>\n",
       "      <td>0.000022</td>\n",
       "    </tr>\n",
       "    <tr>\n",
       "      <th>893572</th>\n",
       "      <td>23614884aa75fe96d99a36a775aeda1b531830b2</td>\n",
       "      <td>SOFLGUD12A6701F7FD</td>\n",
       "      <td>1</td>\n",
       "      <td>Frou Frou</td>\n",
       "      <td>Holding Out For A Hero</td>\n",
       "      <td>0.000022</td>\n",
       "    </tr>\n",
       "    <tr>\n",
       "      <th>893574</th>\n",
       "      <td>d2e8d8aeb220950b4ddfc7c5e648d439a9965eed</td>\n",
       "      <td>SOFLGUD12A6701F7FD</td>\n",
       "      <td>1</td>\n",
       "      <td>Frou Frou</td>\n",
       "      <td>Holding Out For A Hero</td>\n",
       "      <td>0.000022</td>\n",
       "    </tr>\n",
       "    <tr>\n",
       "      <th>893575</th>\n",
       "      <td>ff499594b217036334d3b300e03f9c61ae7b9df9</td>\n",
       "      <td>SOFLGUD12A6701F7FD</td>\n",
       "      <td>1</td>\n",
       "      <td>Frou Frou</td>\n",
       "      <td>Holding Out For A Hero</td>\n",
       "      <td>0.000022</td>\n",
       "    </tr>\n",
       "    <tr>\n",
       "      <th>893576</th>\n",
       "      <td>40f25f9031233352e9e9c5d2e52aaae4dafd1ba9</td>\n",
       "      <td>SOFLGUD12A6701F7FD</td>\n",
       "      <td>1</td>\n",
       "      <td>Frou Frou</td>\n",
       "      <td>Holding Out For A Hero</td>\n",
       "      <td>0.000022</td>\n",
       "    </tr>\n",
       "    <tr>\n",
       "      <th>...</th>\n",
       "      <td>...</td>\n",
       "      <td>...</td>\n",
       "      <td>...</td>\n",
       "      <td>...</td>\n",
       "      <td>...</td>\n",
       "      <td>...</td>\n",
       "    </tr>\n",
       "    <tr>\n",
       "      <th>1424225</th>\n",
       "      <td>a86e68128c6a48d3392db22ce1151a3bdccf5fcf</td>\n",
       "      <td>SOFVLYV12A8C145D8F</td>\n",
       "      <td>537</td>\n",
       "      <td>Us3</td>\n",
       "      <td>Believe In Yourself</td>\n",
       "      <td>0.011572</td>\n",
       "    </tr>\n",
       "    <tr>\n",
       "      <th>526513</th>\n",
       "      <td>69ad6b6a1d14d740eb8c2f013a19c1f8048cecde</td>\n",
       "      <td>SONGOJV12AF729AEBD</td>\n",
       "      <td>582</td>\n",
       "      <td>Queen</td>\n",
       "      <td>Somebody To Love</td>\n",
       "      <td>0.012542</td>\n",
       "    </tr>\n",
       "    <tr>\n",
       "      <th>641625</th>\n",
       "      <td>2d9ea6058d0872ccdc5b1c5c685758bb9c55f0a3</td>\n",
       "      <td>SOAOXTG12A67021AA7</td>\n",
       "      <td>597</td>\n",
       "      <td>Ms. Dynamite / Kymani Marley</td>\n",
       "      <td>Seed Will Grow</td>\n",
       "      <td>0.012865</td>\n",
       "    </tr>\n",
       "    <tr>\n",
       "      <th>679629</th>\n",
       "      <td>a1cc4d088600df2db42e6a305974675ffe8c905d</td>\n",
       "      <td>SOPMHHE12AB01845F6</td>\n",
       "      <td>646</td>\n",
       "      <td>The Beach Boys</td>\n",
       "      <td>What Is a Young Girl Made of</td>\n",
       "      <td>0.013921</td>\n",
       "    </tr>\n",
       "    <tr>\n",
       "      <th>1491875</th>\n",
       "      <td>22bb29714137fa47083963c30e1a26f1bf517e7d</td>\n",
       "      <td>SOXTUWG12AB018A2E2</td>\n",
       "      <td>923</td>\n",
       "      <td>Kilgore</td>\n",
       "      <td>Drop The Hammer (Album Version)</td>\n",
       "      <td>0.019890</td>\n",
       "    </tr>\n",
       "  </tbody>\n",
       "</table>\n",
       "<p>1456563 rows × 6 columns</p>\n",
       "</div>"
      ],
      "text/plain": [
       "                                          user_id             song_id  \\\n",
       "0        fd50c4007b68a3737fe052d5a4f78ce8aa117f3d  SOEGIYH12A6D4FC0E3   \n",
       "893572   23614884aa75fe96d99a36a775aeda1b531830b2  SOFLGUD12A6701F7FD   \n",
       "893574   d2e8d8aeb220950b4ddfc7c5e648d439a9965eed  SOFLGUD12A6701F7FD   \n",
       "893575   ff499594b217036334d3b300e03f9c61ae7b9df9  SOFLGUD12A6701F7FD   \n",
       "893576   40f25f9031233352e9e9c5d2e52aaae4dafd1ba9  SOFLGUD12A6701F7FD   \n",
       "...                                           ...                 ...   \n",
       "1424225  a86e68128c6a48d3392db22ce1151a3bdccf5fcf  SOFVLYV12A8C145D8F   \n",
       "526513   69ad6b6a1d14d740eb8c2f013a19c1f8048cecde  SONGOJV12AF729AEBD   \n",
       "641625   2d9ea6058d0872ccdc5b1c5c685758bb9c55f0a3  SOAOXTG12A67021AA7   \n",
       "679629   a1cc4d088600df2db42e6a305974675ffe8c905d  SOPMHHE12AB01845F6   \n",
       "1491875  22bb29714137fa47083963c30e1a26f1bf517e7d  SOXTUWG12AB018A2E2   \n",
       "\n",
       "         listen_count                                        artist_name  \\\n",
       "0                   1  Barry Tuckwell/Academy of St Martin-in-the-Fie...   \n",
       "893572              1                                          Frou Frou   \n",
       "893574              1                                          Frou Frou   \n",
       "893575              1                                          Frou Frou   \n",
       "893576              1                                          Frou Frou   \n",
       "...               ...                                                ...   \n",
       "1424225           537                                                Us3   \n",
       "526513            582                                              Queen   \n",
       "641625            597                       Ms. Dynamite / Kymani Marley   \n",
       "679629            646                                     The Beach Boys   \n",
       "1491875           923                                            Kilgore   \n",
       "\n",
       "                                                 song_name  percentage  \n",
       "0        Horn Concerto No. 4 in E flat K495: II. Romanc...    0.000022  \n",
       "893572                              Holding Out For A Hero    0.000022  \n",
       "893574                              Holding Out For A Hero    0.000022  \n",
       "893575                              Holding Out For A Hero    0.000022  \n",
       "893576                              Holding Out For A Hero    0.000022  \n",
       "...                                                    ...         ...  \n",
       "1424225                                Believe In Yourself    0.011572  \n",
       "526513                                    Somebody To Love    0.012542  \n",
       "641625                                      Seed Will Grow    0.012865  \n",
       "679629                        What Is a Young Girl Made of    0.013921  \n",
       "1491875                    Drop The Hammer (Album Version)    0.019890  \n",
       "\n",
       "[1456563 rows x 6 columns]"
      ]
     },
     "execution_count": 38,
     "metadata": {},
     "output_type": "execute_result"
    }
   ],
   "source": [
    "df=df.sort_values('listen_count',ascending = True)\n",
    "df"
   ]
  },
  {
   "cell_type": "markdown",
   "metadata": {},
   "source": [
    "### Calculating the minimum frequency of a song."
   ]
  },
  {
   "cell_type": "code",
   "execution_count": 39,
   "metadata": {},
   "outputs": [
    {
     "data": {
      "text/plain": [
       "1"
      ]
     },
     "execution_count": 39,
     "metadata": {},
     "output_type": "execute_result"
    }
   ],
   "source": [
    "df['listen_count'].min()"
   ]
  },
  {
   "cell_type": "markdown",
   "metadata": {},
   "source": [
    "### Calculating the maximum frequency of a song."
   ]
  },
  {
   "cell_type": "code",
   "execution_count": 40,
   "metadata": {},
   "outputs": [
    {
     "data": {
      "text/plain": [
       "923"
      ]
     },
     "execution_count": 40,
     "metadata": {},
     "output_type": "execute_result"
    }
   ],
   "source": [
    "df['listen_count'].max()"
   ]
  },
  {
   "cell_type": "markdown",
   "metadata": {},
   "source": [
    "### No of songs listened per user"
   ]
  },
  {
   "cell_type": "code",
   "execution_count": 41,
   "metadata": {},
   "outputs": [
    {
     "data": {
      "text/plain": [
       "user_id\n",
       "00007a02388c208ea7176479f6ae06f8224355b3     13\n",
       "00014a76ed063e1a749171a253bca9d9a0ff1782     24\n",
       "00015189668691680bb1a2e58afde1541ec92ced    101\n",
       "0001ff7aa2667c8d8b945317b88adaed1c0b9dc2     12\n",
       "00020fcd8b01986a6a85b896ccde6c49f35142ad     44\n",
       "                                           ... \n",
       "fffdef71f13352e9cff769f1d96f5ccf90f8955e     10\n",
       "fffe29116f96c97b47a5dabdd406784ad0ba6f30     10\n",
       "fffe5b73c50c72ca9c54947efac1fcacf59c4a17    108\n",
       "fffed0bee753cd78494011b8b55dafd4f5c7e5ff     76\n",
       "ffff07d7d9bb187aa58c7b81b3d3f35e7cf7c0ee     42\n",
       "Name: listen_count, Length: 110000, dtype: int64"
      ]
     },
     "execution_count": 41,
     "metadata": {},
     "output_type": "execute_result"
    }
   ],
   "source": [
    "songs_per_user=df.groupby(['user_id'])['listen_count'].sum()\n",
    "songs_per_user"
   ]
  },
  {
   "cell_type": "code",
   "execution_count": 42,
   "metadata": {},
   "outputs": [
    {
     "data": {
      "text/plain": [
       "user_id\n",
       "89b07df379827a871fb1e991e14f0918bf4ebc6b    5\n",
       "342bf803141c8a84ccb04dae940477d8621ac73a    5\n",
       "fa6894e991dba63dd2d5c5465c1e0f77ab62770b    5\n",
       "717d34613ad93f04ea187a0fbe444561e96d1c84    5\n",
       "dc152fb9b0b72648dc10e6ed6effb3b148aa316a    5\n",
       "Name: listen_count, dtype: int64"
      ]
     },
     "execution_count": 42,
     "metadata": {},
     "output_type": "execute_result"
    }
   ],
   "source": [
    "songs_per_user.sort_values().head()"
   ]
  },
  {
   "cell_type": "code",
   "execution_count": 43,
   "metadata": {},
   "outputs": [
    {
     "data": {
      "text/plain": [
       "user_id\n",
       "5a9375e46a7e9b869058c7bc0e820e00d77f3e0b    1184\n",
       "c6150292374fb1dad89982367b3245dd5004c718    1192\n",
       "1c5aa998482a40abfd020759e7d757eb6c510e72    1200\n",
       "938c2632d43eeadb8a83a7cc254d014f9cea6afe    1280\n",
       "090b841eaf56d343a26625c2c6d08b823927bc4f    1305\n",
       "Name: listen_count, dtype: int64"
      ]
     },
     "execution_count": 43,
     "metadata": {},
     "output_type": "execute_result"
    }
   ],
   "source": [
    "songs_per_user.sort_values().tail()"
   ]
  },
  {
   "cell_type": "markdown",
   "metadata": {},
   "source": [
    "-  Maximum songs listened per user are 1305 & Minimum songs listened per user are 5"
   ]
  },
  {
   "cell_type": "code",
   "execution_count": 44,
   "metadata": {},
   "outputs": [
    {
     "data": {
      "text/plain": [
       "ffe6adab8edbd3f53230e34379b063419396e319     5\n",
       "f3bda5d9e5653f396c2e34978d97580685a5effe     5\n",
       "fd0347d74ccd77d126be0bac8ecdf6be0c707e60     5\n",
       "ee309f8860b23319d96cc8519b23756461bdbb41     5\n",
       "ac0c62138c645bb59140ed8ae35cb16948f178c9     5\n",
       "                                            ..\n",
       "016a24e91a72c159a5048ab1b9b2ba5ce761b526    52\n",
       "2e424b28bff1f62a2dae22a918f09f9c30c06d1b    52\n",
       "03ad93fdb01506ce205f4708decf8e4b1ae90fff    53\n",
       "7d90be8dfdbde170f036ce8a4b915440137cb11c    53\n",
       "0f8308935bcbb9a1e04ebb7c4d41c037e5f23b90    53\n",
       "Name: user_id, Length: 110000, dtype: int64"
      ]
     },
     "execution_count": 44,
     "metadata": {},
     "output_type": "execute_result"
    }
   ],
   "source": [
    "df['user_id'].value_counts(ascending=True)"
   ]
  },
  {
   "cell_type": "code",
   "execution_count": 45,
   "metadata": {},
   "outputs": [
    {
     "data": {
      "text/html": [
       "<div>\n",
       "<style scoped>\n",
       "    .dataframe tbody tr th:only-of-type {\n",
       "        vertical-align: middle;\n",
       "    }\n",
       "\n",
       "    .dataframe tbody tr th {\n",
       "        vertical-align: top;\n",
       "    }\n",
       "\n",
       "    .dataframe thead th {\n",
       "        text-align: right;\n",
       "    }\n",
       "</style>\n",
       "<table border=\"1\" class=\"dataframe\">\n",
       "  <thead>\n",
       "    <tr style=\"text-align: right;\">\n",
       "      <th></th>\n",
       "      <th>user_id</th>\n",
       "      <th>song_id</th>\n",
       "      <th>listen_count</th>\n",
       "      <th>artist_name</th>\n",
       "      <th>song_name</th>\n",
       "      <th>percentage</th>\n",
       "    </tr>\n",
       "  </thead>\n",
       "  <tbody>\n",
       "    <tr>\n",
       "      <th>1491875</th>\n",
       "      <td>22bb29714137fa47083963c30e1a26f1bf517e7d</td>\n",
       "      <td>SOXTUWG12AB018A2E2</td>\n",
       "      <td>923</td>\n",
       "      <td>Kilgore</td>\n",
       "      <td>Drop The Hammer (Album Version)</td>\n",
       "      <td>0.019890</td>\n",
       "    </tr>\n",
       "    <tr>\n",
       "      <th>679629</th>\n",
       "      <td>a1cc4d088600df2db42e6a305974675ffe8c905d</td>\n",
       "      <td>SOPMHHE12AB01845F6</td>\n",
       "      <td>646</td>\n",
       "      <td>The Beach Boys</td>\n",
       "      <td>What Is a Young Girl Made of</td>\n",
       "      <td>0.013921</td>\n",
       "    </tr>\n",
       "    <tr>\n",
       "      <th>641625</th>\n",
       "      <td>2d9ea6058d0872ccdc5b1c5c685758bb9c55f0a3</td>\n",
       "      <td>SOAOXTG12A67021AA7</td>\n",
       "      <td>597</td>\n",
       "      <td>Ms. Dynamite / Kymani Marley</td>\n",
       "      <td>Seed Will Grow</td>\n",
       "      <td>0.012865</td>\n",
       "    </tr>\n",
       "    <tr>\n",
       "      <th>526513</th>\n",
       "      <td>69ad6b6a1d14d740eb8c2f013a19c1f8048cecde</td>\n",
       "      <td>SONGOJV12AF729AEBD</td>\n",
       "      <td>582</td>\n",
       "      <td>Queen</td>\n",
       "      <td>Somebody To Love</td>\n",
       "      <td>0.012542</td>\n",
       "    </tr>\n",
       "    <tr>\n",
       "      <th>1424225</th>\n",
       "      <td>a86e68128c6a48d3392db22ce1151a3bdccf5fcf</td>\n",
       "      <td>SOFVLYV12A8C145D8F</td>\n",
       "      <td>537</td>\n",
       "      <td>Us3</td>\n",
       "      <td>Believe In Yourself</td>\n",
       "      <td>0.011572</td>\n",
       "    </tr>\n",
       "    <tr>\n",
       "      <th>...</th>\n",
       "      <td>...</td>\n",
       "      <td>...</td>\n",
       "      <td>...</td>\n",
       "      <td>...</td>\n",
       "      <td>...</td>\n",
       "      <td>...</td>\n",
       "    </tr>\n",
       "    <tr>\n",
       "      <th>32686</th>\n",
       "      <td>28caa9baa2203b0b3d97f9e51f17965cf26ff7e4</td>\n",
       "      <td>SOBONKR12A58A7A7E0</td>\n",
       "      <td>234</td>\n",
       "      <td>Dwight Yoakam</td>\n",
       "      <td>You're The One</td>\n",
       "      <td>0.005043</td>\n",
       "    </tr>\n",
       "    <tr>\n",
       "      <th>1434654</th>\n",
       "      <td>5a9375e46a7e9b869058c7bc0e820e00d77f3e0b</td>\n",
       "      <td>SOVEEDI12AB0180CDF</td>\n",
       "      <td>233</td>\n",
       "      <td>Zoegirl</td>\n",
       "      <td>Unchangeable</td>\n",
       "      <td>0.005021</td>\n",
       "    </tr>\n",
       "    <tr>\n",
       "      <th>1334068</th>\n",
       "      <td>4f6c9e7181bc4160566f351d160e5105b0a516f7</td>\n",
       "      <td>SOZIJPB12A6D4FA6BB</td>\n",
       "      <td>232</td>\n",
       "      <td>Quique Gonzalez</td>\n",
       "      <td>Salitre</td>\n",
       "      <td>0.004999</td>\n",
       "    </tr>\n",
       "    <tr>\n",
       "      <th>1300128</th>\n",
       "      <td>5e9f00a9a8a1db20ddc9dd7354422ff8e957308a</td>\n",
       "      <td>SOFPXSN12A6D4F6BD1</td>\n",
       "      <td>232</td>\n",
       "      <td>Righteous Brothers</td>\n",
       "      <td>Georgia On My Mind</td>\n",
       "      <td>0.004999</td>\n",
       "    </tr>\n",
       "    <tr>\n",
       "      <th>1038622</th>\n",
       "      <td>9f9b6e362b3e190b1eff4a6c984c03b19f753691</td>\n",
       "      <td>SOFLOUP12A58A78897</td>\n",
       "      <td>231</td>\n",
       "      <td>The Beach Boys</td>\n",
       "      <td>Cotton Fields (The Cotton Song) (Digitally Rem...</td>\n",
       "      <td>0.004978</td>\n",
       "    </tr>\n",
       "  </tbody>\n",
       "</table>\n",
       "<p>100 rows × 6 columns</p>\n",
       "</div>"
      ],
      "text/plain": [
       "                                          user_id             song_id  \\\n",
       "1491875  22bb29714137fa47083963c30e1a26f1bf517e7d  SOXTUWG12AB018A2E2   \n",
       "679629   a1cc4d088600df2db42e6a305974675ffe8c905d  SOPMHHE12AB01845F6   \n",
       "641625   2d9ea6058d0872ccdc5b1c5c685758bb9c55f0a3  SOAOXTG12A67021AA7   \n",
       "526513   69ad6b6a1d14d740eb8c2f013a19c1f8048cecde  SONGOJV12AF729AEBD   \n",
       "1424225  a86e68128c6a48d3392db22ce1151a3bdccf5fcf  SOFVLYV12A8C145D8F   \n",
       "...                                           ...                 ...   \n",
       "32686    28caa9baa2203b0b3d97f9e51f17965cf26ff7e4  SOBONKR12A58A7A7E0   \n",
       "1434654  5a9375e46a7e9b869058c7bc0e820e00d77f3e0b  SOVEEDI12AB0180CDF   \n",
       "1334068  4f6c9e7181bc4160566f351d160e5105b0a516f7  SOZIJPB12A6D4FA6BB   \n",
       "1300128  5e9f00a9a8a1db20ddc9dd7354422ff8e957308a  SOFPXSN12A6D4F6BD1   \n",
       "1038622  9f9b6e362b3e190b1eff4a6c984c03b19f753691  SOFLOUP12A58A78897   \n",
       "\n",
       "         listen_count                   artist_name  \\\n",
       "1491875           923                       Kilgore   \n",
       "679629            646                The Beach Boys   \n",
       "641625            597  Ms. Dynamite / Kymani Marley   \n",
       "526513            582                         Queen   \n",
       "1424225           537                           Us3   \n",
       "...               ...                           ...   \n",
       "32686             234                 Dwight Yoakam   \n",
       "1434654           233                       Zoegirl   \n",
       "1334068           232               Quique Gonzalez   \n",
       "1300128           232            Righteous Brothers   \n",
       "1038622           231                The Beach Boys   \n",
       "\n",
       "                                                 song_name  percentage  \n",
       "1491875                    Drop The Hammer (Album Version)    0.019890  \n",
       "679629                        What Is a Young Girl Made of    0.013921  \n",
       "641625                                      Seed Will Grow    0.012865  \n",
       "526513                                    Somebody To Love    0.012542  \n",
       "1424225                                Believe In Yourself    0.011572  \n",
       "...                                                    ...         ...  \n",
       "32686                                       You're The One    0.005043  \n",
       "1434654                                       Unchangeable    0.005021  \n",
       "1334068                                            Salitre    0.004999  \n",
       "1300128                                 Georgia On My Mind    0.004999  \n",
       "1038622  Cotton Fields (The Cotton Song) (Digitally Rem...    0.004978  \n",
       "\n",
       "[100 rows x 6 columns]"
      ]
     },
     "execution_count": 45,
     "metadata": {},
     "output_type": "execute_result"
    }
   ],
   "source": [
    "popular_df=df.sort_values(by='listen_count', ascending=False).head(100)\n",
    "popular_df"
   ]
  },
  {
   "cell_type": "markdown",
   "metadata": {},
   "source": [
    "### No.of unique artists"
   ]
  },
  {
   "cell_type": "code",
   "execution_count": 46,
   "metadata": {},
   "outputs": [
    {
     "name": "stdout",
     "output_type": "stream",
     "text": [
      "total no.of artists are : 28366\n"
     ]
    }
   ],
   "source": [
    "print(\"total no.of artists are :\",df['artist_name'].nunique())"
   ]
  },
  {
   "cell_type": "markdown",
   "metadata": {},
   "source": [
    "### List of unique artists"
   ]
  },
  {
   "cell_type": "code",
   "execution_count": 47,
   "metadata": {},
   "outputs": [
    {
     "data": {
      "text/plain": [
       "array(['Barry Tuckwell/Academy of St Martin-in-the-Fields/Sir Neville Marriner',\n",
       "       'Frou Frou', 'Nickel Creek', ..., 'Mousse T.',\n",
       "       'Giuseppe Di Stefano', 'The Family Stand'], dtype=object)"
      ]
     },
     "execution_count": 47,
     "metadata": {},
     "output_type": "execute_result"
    }
   ],
   "source": [
    "df['artist_name'].unique()"
   ]
  },
  {
   "cell_type": "markdown",
   "metadata": {},
   "source": [
    "### List of unique songs"
   ]
  },
  {
   "cell_type": "code",
   "execution_count": 48,
   "metadata": {},
   "outputs": [
    {
     "data": {
      "text/plain": [
       "array(['Horn Concerto No. 4 in E flat K495: II. Romance (Andante cantabile)',\n",
       "       'Holding Out For A Hero', 'Speak', ..., 'SyntymÃ¤pÃ¤ivÃ¤',\n",
       "       'Believe In Yourself', 'Drop The Hammer (Album Version)'],\n",
       "      dtype=object)"
      ]
     },
     "execution_count": 48,
     "metadata": {},
     "output_type": "execute_result"
    }
   ],
   "source": [
    "df['song_name'].unique()"
   ]
  },
  {
   "cell_type": "markdown",
   "metadata": {},
   "source": [
    "### No of unique songs"
   ]
  },
  {
   "cell_type": "code",
   "execution_count": 49,
   "metadata": {},
   "outputs": [
    {
     "data": {
      "text/plain": [
       "137674"
      ]
     },
     "execution_count": 49,
     "metadata": {},
     "output_type": "execute_result"
    }
   ],
   "source": [
    "df['song_name'].nunique()"
   ]
  },
  {
   "cell_type": "markdown",
   "metadata": {},
   "source": [
    "### Top 100 popular artists and songs."
   ]
  },
  {
   "cell_type": "code",
   "execution_count": 50,
   "metadata": {
    "scrolled": true
   },
   "outputs": [
    {
     "data": {
      "text/html": [
       "<div>\n",
       "<style scoped>\n",
       "    .dataframe tbody tr th:only-of-type {\n",
       "        vertical-align: middle;\n",
       "    }\n",
       "\n",
       "    .dataframe tbody tr th {\n",
       "        vertical-align: top;\n",
       "    }\n",
       "\n",
       "    .dataframe thead th {\n",
       "        text-align: right;\n",
       "    }\n",
       "</style>\n",
       "<table border=\"1\" class=\"dataframe\">\n",
       "  <thead>\n",
       "    <tr style=\"text-align: right;\">\n",
       "      <th></th>\n",
       "      <th>artist_name</th>\n",
       "      <th>listen_count</th>\n",
       "      <th>song_name</th>\n",
       "    </tr>\n",
       "  </thead>\n",
       "  <tbody>\n",
       "    <tr>\n",
       "      <th>1491875</th>\n",
       "      <td>Kilgore</td>\n",
       "      <td>923</td>\n",
       "      <td>Drop The Hammer (Album Version)</td>\n",
       "    </tr>\n",
       "    <tr>\n",
       "      <th>679629</th>\n",
       "      <td>The Beach Boys</td>\n",
       "      <td>646</td>\n",
       "      <td>What Is a Young Girl Made of</td>\n",
       "    </tr>\n",
       "    <tr>\n",
       "      <th>641625</th>\n",
       "      <td>Ms. Dynamite / Kymani Marley</td>\n",
       "      <td>597</td>\n",
       "      <td>Seed Will Grow</td>\n",
       "    </tr>\n",
       "    <tr>\n",
       "      <th>526513</th>\n",
       "      <td>Queen</td>\n",
       "      <td>582</td>\n",
       "      <td>Somebody To Love</td>\n",
       "    </tr>\n",
       "    <tr>\n",
       "      <th>1424225</th>\n",
       "      <td>Us3</td>\n",
       "      <td>537</td>\n",
       "      <td>Believe In Yourself</td>\n",
       "    </tr>\n",
       "    <tr>\n",
       "      <th>...</th>\n",
       "      <td>...</td>\n",
       "      <td>...</td>\n",
       "      <td>...</td>\n",
       "    </tr>\n",
       "    <tr>\n",
       "      <th>32686</th>\n",
       "      <td>Dwight Yoakam</td>\n",
       "      <td>234</td>\n",
       "      <td>You're The One</td>\n",
       "    </tr>\n",
       "    <tr>\n",
       "      <th>1434654</th>\n",
       "      <td>Zoegirl</td>\n",
       "      <td>233</td>\n",
       "      <td>Unchangeable</td>\n",
       "    </tr>\n",
       "    <tr>\n",
       "      <th>1334068</th>\n",
       "      <td>Quique Gonzalez</td>\n",
       "      <td>232</td>\n",
       "      <td>Salitre</td>\n",
       "    </tr>\n",
       "    <tr>\n",
       "      <th>1300128</th>\n",
       "      <td>Righteous Brothers</td>\n",
       "      <td>232</td>\n",
       "      <td>Georgia On My Mind</td>\n",
       "    </tr>\n",
       "    <tr>\n",
       "      <th>1038622</th>\n",
       "      <td>The Beach Boys</td>\n",
       "      <td>231</td>\n",
       "      <td>Cotton Fields (The Cotton Song) (Digitally Rem...</td>\n",
       "    </tr>\n",
       "  </tbody>\n",
       "</table>\n",
       "<p>100 rows × 3 columns</p>\n",
       "</div>"
      ],
      "text/plain": [
       "                          artist_name  listen_count  \\\n",
       "1491875                       Kilgore           923   \n",
       "679629                 The Beach Boys           646   \n",
       "641625   Ms. Dynamite / Kymani Marley           597   \n",
       "526513                          Queen           582   \n",
       "1424225                           Us3           537   \n",
       "...                               ...           ...   \n",
       "32686                   Dwight Yoakam           234   \n",
       "1434654                       Zoegirl           233   \n",
       "1334068               Quique Gonzalez           232   \n",
       "1300128            Righteous Brothers           232   \n",
       "1038622                The Beach Boys           231   \n",
       "\n",
       "                                                 song_name  \n",
       "1491875                    Drop The Hammer (Album Version)  \n",
       "679629                        What Is a Young Girl Made of  \n",
       "641625                                      Seed Will Grow  \n",
       "526513                                    Somebody To Love  \n",
       "1424225                                Believe In Yourself  \n",
       "...                                                    ...  \n",
       "32686                                       You're The One  \n",
       "1434654                                       Unchangeable  \n",
       "1334068                                            Salitre  \n",
       "1300128                                 Georgia On My Mind  \n",
       "1038622  Cotton Fields (The Cotton Song) (Digitally Rem...  \n",
       "\n",
       "[100 rows x 3 columns]"
      ]
     },
     "execution_count": 50,
     "metadata": {},
     "output_type": "execute_result"
    }
   ],
   "source": [
    "popular_df=df[['artist_name','listen_count','song_name']]\n",
    "\n",
    "popular_df.sort_values(by='listen_count',ascending=False).head(100)"
   ]
  },
  {
   "cell_type": "markdown",
   "metadata": {},
   "source": [
    "### Merged song_name and artist_name columns to make a single column"
   ]
  },
  {
   "cell_type": "code",
   "execution_count": 51,
   "metadata": {},
   "outputs": [],
   "source": [
    "df['song'] = df['song_name'].map(str) + \" - \" + df['artist_name']"
   ]
  },
  {
   "cell_type": "markdown",
   "metadata": {},
   "source": [
    "### Showing the most popular songs in the dataset."
   ]
  },
  {
   "cell_type": "code",
   "execution_count": 52,
   "metadata": {},
   "outputs": [
    {
     "data": {
      "text/html": [
       "<div>\n",
       "<style scoped>\n",
       "    .dataframe tbody tr th:only-of-type {\n",
       "        vertical-align: middle;\n",
       "    }\n",
       "\n",
       "    .dataframe tbody tr th {\n",
       "        vertical-align: top;\n",
       "    }\n",
       "\n",
       "    .dataframe thead th {\n",
       "        text-align: right;\n",
       "    }\n",
       "</style>\n",
       "<table border=\"1\" class=\"dataframe\">\n",
       "  <thead>\n",
       "    <tr style=\"text-align: right;\">\n",
       "      <th></th>\n",
       "      <th>song</th>\n",
       "      <th>listen_count</th>\n",
       "    </tr>\n",
       "  </thead>\n",
       "  <tbody>\n",
       "    <tr>\n",
       "      <th>116533</th>\n",
       "      <td>Sehr kosmisch - Harmonia</td>\n",
       "      <td>5043</td>\n",
       "    </tr>\n",
       "    <tr>\n",
       "      <th>147890</th>\n",
       "      <td>Undo - BjÃ¶rk</td>\n",
       "      <td>4483</td>\n",
       "    </tr>\n",
       "    <tr>\n",
       "      <th>160451</th>\n",
       "      <td>You're The One - Dwight Yoakam</td>\n",
       "      <td>4135</td>\n",
       "    </tr>\n",
       "    <tr>\n",
       "      <th>33519</th>\n",
       "      <td>Dog Days Are Over (Radio Edit) - Florence + Th...</td>\n",
       "      <td>3780</td>\n",
       "    </tr>\n",
       "    <tr>\n",
       "      <th>110768</th>\n",
       "      <td>Revelry - Kings Of Leon</td>\n",
       "      <td>3672</td>\n",
       "    </tr>\n",
       "    <tr>\n",
       "      <th>...</th>\n",
       "      <td>...</td>\n",
       "      <td>...</td>\n",
       "    </tr>\n",
       "    <tr>\n",
       "      <th>10</th>\n",
       "      <td>!Hoy Estreno! - The New Raemon</td>\n",
       "      <td>1</td>\n",
       "    </tr>\n",
       "    <tr>\n",
       "      <th>8</th>\n",
       "      <td>You - Simple Kid</td>\n",
       "      <td>1</td>\n",
       "    </tr>\n",
       "    <tr>\n",
       "      <th>5</th>\n",
       "      <td>Country Song - Jaguar Wright</td>\n",
       "      <td>1</td>\n",
       "    </tr>\n",
       "    <tr>\n",
       "      <th>2</th>\n",
       "      <td>The Arsonist Story\":  Evil Craves Attention/O...</td>\n",
       "      <td>1</td>\n",
       "    </tr>\n",
       "    <tr>\n",
       "      <th>0</th>\n",
       "      <td>Ef Ã‰g HefÃ°i Aldrei... - Johann Johannsson</td>\n",
       "      <td>1</td>\n",
       "    </tr>\n",
       "  </tbody>\n",
       "</table>\n",
       "<p>162109 rows × 2 columns</p>\n",
       "</div>"
      ],
      "text/plain": [
       "                                                     song  listen_count\n",
       "116533                           Sehr kosmisch - Harmonia          5043\n",
       "147890                                      Undo - BjÃ¶rk          4483\n",
       "160451                     You're The One - Dwight Yoakam          4135\n",
       "33519   Dog Days Are Over (Radio Edit) - Florence + Th...          3780\n",
       "110768                            Revelry - Kings Of Leon          3672\n",
       "...                                                   ...           ...\n",
       "10                         !Hoy Estreno! - The New Raemon             1\n",
       "8                                        You - Simple Kid             1\n",
       "5                            Country Song - Jaguar Wright             1\n",
       "2       \n",
       "The Arsonist Story\":  Evil Craves Attention/O...             1\n",
       "0            \n",
       "Ef Ã‰g HefÃ°i Aldrei... - Johann Johannsson             1\n",
       "\n",
       "[162109 rows x 2 columns]"
      ]
     },
     "execution_count": 52,
     "metadata": {},
     "output_type": "execute_result"
    }
   ],
   "source": [
    "song_grouped = df.groupby(['song']).agg({'listen_count': 'count'}).reset_index()\n",
    "\n",
    "song_grouped.sort_values(['listen_count', 'song'], ascending =False)"
   ]
  },
  {
   "cell_type": "markdown",
   "metadata": {},
   "source": [
    "## Data visualization to understand the insights in the Data \n",
    "\n",
    "-  Matplotlib comes with a wide variety of plots like line, bar, scatter, histogram, etc. which can help us, deep-dive, into understanding trends, patterns, correlations. Matplotlib is written in Python and makes use of the NumPy library.\n",
    "\n",
    "-  Seaborn is a dataset-oriented library for making statistical representations in Python. It is developed atop matplotlib and to create different visualizations. The library internally performs the required mapping and aggregation to create informative visuals It is recommended to use a Jupyter/IPython interface in matplotlib mode."
   ]
  },
  {
   "cell_type": "markdown",
   "metadata": {},
   "source": [
    "## Univariate analysis\n"
   ]
  },
  {
   "cell_type": "markdown",
   "metadata": {},
   "source": [
    "-  Univariate analysis is a basic kind of analysis technique for statistical data. Here the data contains just one variable and does not have to deal with the relationship of a cause and effect.\n",
    "-  The main objective of the univariate analysis is to describe the data in order to find out the patterns in the data. This is done by looking at the mean, mode, median, standard deviation, dispersion, etc."
   ]
  },
  {
   "cell_type": "code",
   "execution_count": 53,
   "metadata": {},
   "outputs": [],
   "source": [
    "import matplotlib.pyplot as plt\n",
    "import seaborn as sns\n",
    "%matplotlib inline"
   ]
  },
  {
   "cell_type": "code",
   "execution_count": 54,
   "metadata": {},
   "outputs": [
    {
     "data": {
      "text/html": [
       "<div>\n",
       "<style scoped>\n",
       "    .dataframe tbody tr th:only-of-type {\n",
       "        vertical-align: middle;\n",
       "    }\n",
       "\n",
       "    .dataframe tbody tr th {\n",
       "        vertical-align: top;\n",
       "    }\n",
       "\n",
       "    .dataframe thead th {\n",
       "        text-align: right;\n",
       "    }\n",
       "</style>\n",
       "<table border=\"1\" class=\"dataframe\">\n",
       "  <thead>\n",
       "    <tr style=\"text-align: right;\">\n",
       "      <th></th>\n",
       "      <th>listen_count</th>\n",
       "      <th>percentage</th>\n",
       "    </tr>\n",
       "  </thead>\n",
       "  <tbody>\n",
       "    <tr>\n",
       "      <th>count</th>\n",
       "      <td>1.456563e+06</td>\n",
       "      <td>1.456563e+06</td>\n",
       "    </tr>\n",
       "    <tr>\n",
       "      <th>mean</th>\n",
       "      <td>3.185951e+00</td>\n",
       "      <td>6.865477e-05</td>\n",
       "    </tr>\n",
       "    <tr>\n",
       "      <th>std</th>\n",
       "      <td>7.044771e+00</td>\n",
       "      <td>1.518094e-04</td>\n",
       "    </tr>\n",
       "    <tr>\n",
       "      <th>min</th>\n",
       "      <td>1.000000e+00</td>\n",
       "      <td>2.154923e-05</td>\n",
       "    </tr>\n",
       "    <tr>\n",
       "      <th>25%</th>\n",
       "      <td>1.000000e+00</td>\n",
       "      <td>2.154923e-05</td>\n",
       "    </tr>\n",
       "    <tr>\n",
       "      <th>50%</th>\n",
       "      <td>1.000000e+00</td>\n",
       "      <td>2.154923e-05</td>\n",
       "    </tr>\n",
       "    <tr>\n",
       "      <th>75%</th>\n",
       "      <td>3.000000e+00</td>\n",
       "      <td>6.464768e-05</td>\n",
       "    </tr>\n",
       "    <tr>\n",
       "      <th>max</th>\n",
       "      <td>9.230000e+02</td>\n",
       "      <td>1.988994e-02</td>\n",
       "    </tr>\n",
       "  </tbody>\n",
       "</table>\n",
       "</div>"
      ],
      "text/plain": [
       "       listen_count    percentage\n",
       "count  1.456563e+06  1.456563e+06\n",
       "mean   3.185951e+00  6.865477e-05\n",
       "std    7.044771e+00  1.518094e-04\n",
       "min    1.000000e+00  2.154923e-05\n",
       "25%    1.000000e+00  2.154923e-05\n",
       "50%    1.000000e+00  2.154923e-05\n",
       "75%    3.000000e+00  6.464768e-05\n",
       "max    9.230000e+02  1.988994e-02"
      ]
     },
     "execution_count": 54,
     "metadata": {},
     "output_type": "execute_result"
    }
   ],
   "source": [
    "# describes the statistical details of numeric values present over in listen_count column.\n",
    "\n",
    "df.describe()"
   ]
  },
  {
   "cell_type": "code",
   "execution_count": 55,
   "metadata": {},
   "outputs": [
    {
     "data": {
      "text/plain": [
       "[Text(0, 0.5, 'density'), Text(0.5, 0, 'listen_count')]"
      ]
     },
     "execution_count": 55,
     "metadata": {},
     "output_type": "execute_result"
    },
    {
     "data": {
      "image/png": "[encoded data removed]",
      "text/plain": [
       "<Figure size 432x288 with 1 Axes>"
      ]
     },
     "metadata": {
      "needs_background": "light"
     },
     "output_type": "display_data"
    }
   ],
   "source": [
    "ax = sns.distplot(df['listen_count'],bins=100,kde=True,color='skyblue',hist_kws={\"linewidth\": 15,'alpha':1})\n",
    "\n",
    "ax.set(xlabel='listen_count', ylabel='density')"
   ]
  },
  {
   "cell_type": "code",
   "execution_count": 56,
   "metadata": {},
   "outputs": [
    {
     "name": "stdout",
     "output_type": "stream",
     "text": [
      "                                                     song  listen_count\n",
      "116533                           Sehr kosmisch - Harmonia          5043\n",
      "147890                                      Undo - BjÃ¶rk          4483\n",
      "160451                     You're The One - Dwight Yoakam          4135\n",
      "33519   Dog Days Are Over (Radio Edit) - Florence + Th...          3780\n",
      "110768                            Revelry - Kings Of Leon          3672\n",
      "116282                              Secrets - OneRepublic          3430\n",
      "58017   Horn Concerto No. 4 in E flat K495: II. Romanc...          3272\n",
      "56260                            Hey_ Soul Sister - Train          2791\n",
      "44103                      Fireflies - Charttraxx Karaoke          2725\n",
      "143149                                 Tive Sim - Cartola          2668\n"
     ]
    },
    {
     "data": {
      "image/png": "[encoded data removed]",
      "text/plain": [
       "<Figure size 360x360 with 1 Axes>"
      ]
     },
     "metadata": {
      "needs_background": "light"
     },
     "output_type": "display_data"
    }
   ],
   "source": [
    "# To calculate popularity of a song, we can aggregate listen_count.\n",
    "\n",
    "\n",
    "# song_grouped = df.groupby(['song']).agg({'listen_count': 'count'}).reset_index()\n",
    "\n",
    "x = song_grouped.sort_values(['listen_count', 'song'], ascending =False).head(10)\n",
    "\n",
    "print(x)\n",
    "plt.figure(figsize=(5,5))\n",
    "sns.barplot(x['song'], x['listen_count'], palette = 'magma')\n",
    "plt.title('Top 10 Most Popular songs', fontsize = 10)\n",
    "plt.xticks(rotation = 90, fontsize = 14)\n",
    "plt.xlabel(' ')\n",
    "plt.show()"
   ]
  },
  {
   "cell_type": "markdown",
   "metadata": {},
   "source": [
    "### Content Based Recommender System\n",
    "\n",
    "\n",
    "-  Content-based methods gives recommendations based on the similarity of two song contents or attributes\n",
    "\n",
    "-  Content-based methods are computationally fast and interpretable. Moreover, they can be efficiently adapted to new items or users.  However, one of the biggest limitations of content-based recommendation systems is that the model only learns to recommend items of the same type that the user is already using or, in our case, listening to. Even though this could be helpful, the value of that recommendation is significantly less because it lacks the surprise component of discovering something completely new.\n",
    "\n",
    "-  The most straightforward approach is keyword matching.\n",
    "\n",
    "-  In a few words, the idea behind is to extract meaningful keywords present in a song description a user likes, search for the keywords in other song descriptions to estimate similarities among them, and based on that, recommend those songs to the user."
   ]
  },
  {
   "cell_type": "code",
   "execution_count": 57,
   "metadata": {},
   "outputs": [
    {
     "data": {
      "text/html": [
       "<div>\n",
       "<style scoped>\n",
       "    .dataframe tbody tr th:only-of-type {\n",
       "        vertical-align: middle;\n",
       "    }\n",
       "\n",
       "    .dataframe tbody tr th {\n",
       "        vertical-align: top;\n",
       "    }\n",
       "\n",
       "    .dataframe thead th {\n",
       "        text-align: right;\n",
       "    }\n",
       "</style>\n",
       "<table border=\"1\" class=\"dataframe\">\n",
       "  <thead>\n",
       "    <tr style=\"text-align: right;\">\n",
       "      <th></th>\n",
       "      <th>user_id</th>\n",
       "      <th>song_id</th>\n",
       "      <th>listen_count</th>\n",
       "      <th>artist_name</th>\n",
       "      <th>song_name</th>\n",
       "      <th>percentage</th>\n",
       "      <th>song</th>\n",
       "    </tr>\n",
       "  </thead>\n",
       "  <tbody>\n",
       "    <tr>\n",
       "      <th>0</th>\n",
       "      <td>fd50c4007b68a3737fe052d5a4f78ce8aa117f3d</td>\n",
       "      <td>SOEGIYH12A6D4FC0E3</td>\n",
       "      <td>1</td>\n",
       "      <td>Barry Tuckwell/Academy of St Martin-in-the-Fie...</td>\n",
       "      <td>Horn Concerto No. 4 in E flat K495: II. Romanc...</td>\n",
       "      <td>0.000022</td>\n",
       "      <td>Horn Concerto No. 4 in E flat K495: II. Romanc...</td>\n",
       "    </tr>\n",
       "    <tr>\n",
       "      <th>893572</th>\n",
       "      <td>23614884aa75fe96d99a36a775aeda1b531830b2</td>\n",
       "      <td>SOFLGUD12A6701F7FD</td>\n",
       "      <td>1</td>\n",
       "      <td>Frou Frou</td>\n",
       "      <td>Holding Out For A Hero</td>\n",
       "      <td>0.000022</td>\n",
       "      <td>Holding Out For A Hero - Frou Frou</td>\n",
       "    </tr>\n",
       "    <tr>\n",
       "      <th>893574</th>\n",
       "      <td>d2e8d8aeb220950b4ddfc7c5e648d439a9965eed</td>\n",
       "      <td>SOFLGUD12A6701F7FD</td>\n",
       "      <td>1</td>\n",
       "      <td>Frou Frou</td>\n",
       "      <td>Holding Out For A Hero</td>\n",
       "      <td>0.000022</td>\n",
       "      <td>Holding Out For A Hero - Frou Frou</td>\n",
       "    </tr>\n",
       "    <tr>\n",
       "      <th>893575</th>\n",
       "      <td>ff499594b217036334d3b300e03f9c61ae7b9df9</td>\n",
       "      <td>SOFLGUD12A6701F7FD</td>\n",
       "      <td>1</td>\n",
       "      <td>Frou Frou</td>\n",
       "      <td>Holding Out For A Hero</td>\n",
       "      <td>0.000022</td>\n",
       "      <td>Holding Out For A Hero - Frou Frou</td>\n",
       "    </tr>\n",
       "    <tr>\n",
       "      <th>893576</th>\n",
       "      <td>40f25f9031233352e9e9c5d2e52aaae4dafd1ba9</td>\n",
       "      <td>SOFLGUD12A6701F7FD</td>\n",
       "      <td>1</td>\n",
       "      <td>Frou Frou</td>\n",
       "      <td>Holding Out For A Hero</td>\n",
       "      <td>0.000022</td>\n",
       "      <td>Holding Out For A Hero - Frou Frou</td>\n",
       "    </tr>\n",
       "  </tbody>\n",
       "</table>\n",
       "</div>"
      ],
      "text/plain": [
       "                                         user_id             song_id  \\\n",
       "0       fd50c4007b68a3737fe052d5a4f78ce8aa117f3d  SOEGIYH12A6D4FC0E3   \n",
       "893572  23614884aa75fe96d99a36a775aeda1b531830b2  SOFLGUD12A6701F7FD   \n",
       "893574  d2e8d8aeb220950b4ddfc7c5e648d439a9965eed  SOFLGUD12A6701F7FD   \n",
       "893575  ff499594b217036334d3b300e03f9c61ae7b9df9  SOFLGUD12A6701F7FD   \n",
       "893576  40f25f9031233352e9e9c5d2e52aaae4dafd1ba9  SOFLGUD12A6701F7FD   \n",
       "\n",
       "        listen_count                                        artist_name  \\\n",
       "0                  1  Barry Tuckwell/Academy of St Martin-in-the-Fie...   \n",
       "893572             1                                          Frou Frou   \n",
       "893574             1                                          Frou Frou   \n",
       "893575             1                                          Frou Frou   \n",
       "893576             1                                          Frou Frou   \n",
       "\n",
       "                                                song_name  percentage  \\\n",
       "0       Horn Concerto No. 4 in E flat K495: II. Romanc...    0.000022   \n",
       "893572                             Holding Out For A Hero    0.000022   \n",
       "893574                             Holding Out For A Hero    0.000022   \n",
       "893575                             Holding Out For A Hero    0.000022   \n",
       "893576                             Holding Out For A Hero    0.000022   \n",
       "\n",
       "                                                     song  \n",
       "0       Horn Concerto No. 4 in E flat K495: II. Romanc...  \n",
       "893572                 Holding Out For A Hero - Frou Frou  \n",
       "893574                 Holding Out For A Hero - Frou Frou  \n",
       "893575                 Holding Out For A Hero - Frou Frou  \n",
       "893576                 Holding Out For A Hero - Frou Frou  "
      ]
     },
     "execution_count": 57,
     "metadata": {},
     "output_type": "execute_result"
    }
   ],
   "source": [
    "df.head()"
   ]
  },
  {
   "cell_type": "markdown",
   "metadata": {},
   "source": [
    "-  We are going to use TfidfVectorizer from the Scikit-learn package"
   ]
  },
  {
   "cell_type": "code",
   "execution_count": 58,
   "metadata": {},
   "outputs": [],
   "source": [
    "df1=df.drop([\"artist_name\",\"song_name\"] , axis=1 )"
   ]
  },
  {
   "cell_type": "markdown",
   "metadata": {},
   "source": [
    "### Text Pre-processing\n",
    "\n",
    "-  In order to convert the text into mathematical representations, we'll use another vectorizer called TF-IDF vectorizer\n",
    "\n",
    "-  TF = Term Frequency - relative frequency of a word in a document.\n",
    "\n",
    "(no of repeatation words in a sentence / no of words in a sentence)\n",
    "\n",
    "-  IDF = Inverse Document Frequency - relative count of the documents containing the term.\n",
    "\n",
    "log (no of sentences / no of sentences containing words )\n",
    "-  TF X IDF"
   ]
  },
  {
   "cell_type": "code",
   "execution_count": 59,
   "metadata": {},
   "outputs": [],
   "source": [
    "#TFIDF\n",
    "from sklearn.feature_extraction.text import TfidfVectorizer\n",
    "\n",
    "tfv=TfidfVectorizer(min_df=3 , max_features=None,\n",
    "                   strip_accents = 'unicode' , analyzer = 'word' , token_pattern =r'\\w{1,}' ,\n",
    "                   ngram_range=(1,3) , stop_words=\"english\" )\n",
    "\n",
    "df1[\"song\"]= df1[\"song\"].fillna('')\n",
    "\n"
   ]
  },
  {
   "cell_type": "code",
   "execution_count": 60,
   "metadata": {},
   "outputs": [],
   "source": [
    "tfv_matrix = tfv.fit_transform(df1[\"song\"][:30000])   #not able to take more than 30000 samples"
   ]
  },
  {
   "cell_type": "code",
   "execution_count": 61,
   "metadata": {},
   "outputs": [
    {
     "data": {
      "text/plain": [
       "<30000x14921 sparse matrix of type '<class 'numpy.float64'>'\n",
       "\twith 284835 stored elements in Compressed Sparse Row format>"
      ]
     },
     "execution_count": 61,
     "metadata": {},
     "output_type": "execute_result"
    }
   ],
   "source": [
    "tfv_matrix"
   ]
  },
  {
   "cell_type": "code",
   "execution_count": 63,
   "metadata": {},
   "outputs": [
    {
     "data": {
      "text/plain": [
       "(30000, 14921)"
      ]
     },
     "execution_count": 63,
     "metadata": {},
     "output_type": "execute_result"
    }
   ],
   "source": [
    "tfv_matrix.shape"
   ]
  },
  {
   "cell_type": "code",
   "execution_count": 64,
   "metadata": {},
   "outputs": [],
   "source": [
    "from sklearn.metrics.pairwise import sigmoid_kernel\n",
    "\n",
    "sig = sigmoid_kernel(tfv_matrix , tfv_matrix)"
   ]
  },
  {
   "cell_type": "code",
   "execution_count": 65,
   "metadata": {},
   "outputs": [
    {
     "data": {
      "text/plain": [
       "array([0.7616223 , 0.76159416, 0.76159416, ..., 0.76159416, 0.76159416,\n",
       "       0.76159416])"
      ]
     },
     "execution_count": 65,
     "metadata": {},
     "output_type": "execute_result"
    }
   ],
   "source": [
    "sig[0]"
   ]
  },
  {
   "cell_type": "code",
   "execution_count": 66,
   "metadata": {},
   "outputs": [
    {
     "data": {
      "text/plain": [
       "song_name\n",
       "Trail Blazer                                29911\n",
       "Cannibalistic                               29912\n",
       "F.T.B.                                      29913\n",
       "Weight Of The World                         29914\n",
       "Interlude: Livin'...In Complete Darkness    29915\n",
       "The New Timer                               29916\n",
       "Eyes Won't Shut                             29917\n",
       "Choo Choo Train                             29918\n",
       "Nauseas                                     29919\n",
       "DNA                                         29920\n",
       "dtype: int64"
      ]
     },
     "execution_count": 66,
     "metadata": {},
     "output_type": "execute_result"
    }
   ],
   "source": [
    "x=[i for i in range(1,137675)]\n",
    "indices = pd.Series(x , index=df['song_name'].drop_duplicates())\n",
    "indices[29910:29920]"
   ]
  },
  {
   "cell_type": "code",
   "execution_count": 67,
   "metadata": {},
   "outputs": [
    {
     "data": {
      "text/plain": [
       "137674"
      ]
     },
     "execution_count": 67,
     "metadata": {},
     "output_type": "execute_result"
    }
   ],
   "source": [
    "sum(indices.value_counts())"
   ]
  },
  {
   "cell_type": "code",
   "execution_count": 68,
   "metadata": {},
   "outputs": [],
   "source": [
    "def give_rec(release , sig=sig):\n",
    "    idx=indices[release]\n",
    "    sig_scores=list(enumerate(sig[idx]))\n",
    "    sig_scores=sorted(sig_scores,key=lambda x:x[1] , reverse=True)\n",
    "    sig_scores=sig_scores[1:11]\n",
    "    \n",
    "    song_indices=[i[0] for i in sig_scores]\n",
    "    return df['song_name'].drop_duplicates().iloc[song_indices]\n",
    "    "
   ]
  },
  {
   "cell_type": "code",
   "execution_count": 69,
   "metadata": {},
   "outputs": [
    {
     "ename": "IndexError",
     "evalue": "index 93309 is out of bounds for axis 0 with size 30000",
     "output_type": "error",
     "traceback": [
      "\u001b[1;31m---------------------------------------------------------------------------\u001b[0m",
      "\u001b[1;31mIndexError\u001b[0m                                Traceback (most recent call last)",
      "\u001b[1;32m<ipython-input-69-17a9e031a899>\u001b[0m in \u001b[0;36m<module>\u001b[1;34m\u001b[0m\n\u001b[1;32m----> 1\u001b[1;33m \u001b[0mgive_rec\u001b[0m\u001b[1;33m(\u001b[0m\u001b[1;34m\"Comin' For The Datazz (Explicit)\"\u001b[0m\u001b[1;33m)\u001b[0m\u001b[1;33m\u001b[0m\u001b[1;33m\u001b[0m\u001b[0m\n\u001b[0m",
      "\u001b[1;32m<ipython-input-68-4df292c1c5ac>\u001b[0m in \u001b[0;36mgive_rec\u001b[1;34m(release, sig)\u001b[0m\n\u001b[0;32m      1\u001b[0m \u001b[1;32mdef\u001b[0m \u001b[0mgive_rec\u001b[0m\u001b[1;33m(\u001b[0m\u001b[0mrelease\u001b[0m \u001b[1;33m,\u001b[0m \u001b[0msig\u001b[0m\u001b[1;33m=\u001b[0m\u001b[0msig\u001b[0m\u001b[1;33m)\u001b[0m\u001b[1;33m:\u001b[0m\u001b[1;33m\u001b[0m\u001b[1;33m\u001b[0m\u001b[0m\n\u001b[0;32m      2\u001b[0m     \u001b[0midx\u001b[0m\u001b[1;33m=\u001b[0m\u001b[0mindices\u001b[0m\u001b[1;33m[\u001b[0m\u001b[0mrelease\u001b[0m\u001b[1;33m]\u001b[0m\u001b[1;33m\u001b[0m\u001b[1;33m\u001b[0m\u001b[0m\n\u001b[1;32m----> 3\u001b[1;33m     \u001b[0msig_scores\u001b[0m\u001b[1;33m=\u001b[0m\u001b[0mlist\u001b[0m\u001b[1;33m(\u001b[0m\u001b[0menumerate\u001b[0m\u001b[1;33m(\u001b[0m\u001b[0msig\u001b[0m\u001b[1;33m[\u001b[0m\u001b[0midx\u001b[0m\u001b[1;33m]\u001b[0m\u001b[1;33m)\u001b[0m\u001b[1;33m)\u001b[0m\u001b[1;33m\u001b[0m\u001b[1;33m\u001b[0m\u001b[0m\n\u001b[0m\u001b[0;32m      4\u001b[0m     \u001b[0msig_scores\u001b[0m\u001b[1;33m=\u001b[0m\u001b[0msorted\u001b[0m\u001b[1;33m(\u001b[0m\u001b[0msig_scores\u001b[0m\u001b[1;33m,\u001b[0m\u001b[0mkey\u001b[0m\u001b[1;33m=\u001b[0m\u001b[1;32mlambda\u001b[0m \u001b[0mx\u001b[0m\u001b[1;33m:\u001b[0m\u001b[0mx\u001b[0m\u001b[1;33m[\u001b[0m\u001b[1;36m1\u001b[0m\u001b[1;33m]\u001b[0m \u001b[1;33m,\u001b[0m \u001b[0mreverse\u001b[0m\u001b[1;33m=\u001b[0m\u001b[1;32mTrue\u001b[0m\u001b[1;33m)\u001b[0m\u001b[1;33m\u001b[0m\u001b[1;33m\u001b[0m\u001b[0m\n\u001b[0;32m      5\u001b[0m     \u001b[0msig_scores\u001b[0m\u001b[1;33m=\u001b[0m\u001b[0msig_scores\u001b[0m\u001b[1;33m[\u001b[0m\u001b[1;36m1\u001b[0m\u001b[1;33m:\u001b[0m\u001b[1;36m11\u001b[0m\u001b[1;33m]\u001b[0m\u001b[1;33m\u001b[0m\u001b[1;33m\u001b[0m\u001b[0m\n",
      "\u001b[1;31mIndexError\u001b[0m: index 93309 is out of bounds for axis 0 with size 30000"
     ]
    }
   ],
   "source": [
    "give_rec(\"Comin' For The Datazz (Explicit)\")  "
   ]
  },
  {
   "cell_type": "code",
   "execution_count": null,
   "metadata": {},
   "outputs": [],
   "source": []
  }
 ],
 "metadata": {
  "kernelspec": {
   "display_name": "Python 3",
   "language": "python",
   "name": "python3"
  },
  "language_info": {
   "codemirror_mode": {
    "name": "ipython",
    "version": 3
   },
   "file_extension": ".py",
   "mimetype": "text/x-python",
   "name": "python",
   "nbconvert_exporter": "python",
   "pygments_lexer": "ipython3",
   "version": "3.6.5"
  }
 },
 "nbformat": 4,
 "nbformat_minor": 4
}
