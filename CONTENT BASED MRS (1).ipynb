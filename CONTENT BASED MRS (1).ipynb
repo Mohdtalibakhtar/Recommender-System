{
 "cells": [
  {
   "cell_type": "markdown",
   "metadata": {},
   "source": [
    "# content based recommender system"
   ]
  },
  {
   "cell_type": "code",
   "execution_count": 1,
   "metadata": {},
   "outputs": [],
   "source": [
    "import numpy as np\n",
    "import pandas as pd \n",
    "import matplotlib.pyplot as plt \n",
    "import seaborn as sns \n",
    "%matplotlib inline\n",
    "import warnings\n",
    "warnings.filterwarnings('ignore')"
   ]
  },
  {
   "cell_type": "code",
   "execution_count": 2,
   "metadata": {},
   "outputs": [],
   "source": [
    "triplets=pd.read_table(\"kaggle_visible_evaluation_triplets.txt\")"
   ]
  },
  {
   "cell_type": "code",
   "execution_count": 3,
   "metadata": {},
   "outputs": [
    {
     "data": {
      "text/plain": [
       "Index(['fd50c4007b68a3737fe052d5a4f78ce8aa117f3d', 'SOBONKR12A58A7A7E0', '1'], dtype='object')"
      ]
     },
     "execution_count": 3,
     "metadata": {},
     "output_type": "execute_result"
    }
   ],
   "source": [
    "triplets.columns"
   ]
  },
  {
   "cell_type": "code",
   "execution_count": 4,
   "metadata": {},
   "outputs": [],
   "source": [
    "triplets=triplets.rename(columns={'fd50c4007b68a3737fe052d5a4f78ce8aa117f3d':'user_id','SOBONKR12A58A7A7E0':'song_id','1':'no.of times listened'})"
   ]
  },
  {
   "cell_type": "code",
   "execution_count": 5,
   "metadata": {},
   "outputs": [
    {
     "data": {
      "text/html": [
       "<div>\n",
       "<style scoped>\n",
       "    .dataframe tbody tr th:only-of-type {\n",
       "        vertical-align: middle;\n",
       "    }\n",
       "\n",
       "    .dataframe tbody tr th {\n",
       "        vertical-align: top;\n",
       "    }\n",
       "\n",
       "    .dataframe thead th {\n",
       "        text-align: right;\n",
       "    }\n",
       "</style>\n",
       "<table border=\"1\" class=\"dataframe\">\n",
       "  <thead>\n",
       "    <tr style=\"text-align: right;\">\n",
       "      <th></th>\n",
       "      <th>user_id</th>\n",
       "      <th>song_id</th>\n",
       "      <th>no.of times listened</th>\n",
       "    </tr>\n",
       "  </thead>\n",
       "  <tbody>\n",
       "    <tr>\n",
       "      <th>0</th>\n",
       "      <td>fd50c4007b68a3737fe052d5a4f78ce8aa117f3d</td>\n",
       "      <td>SOEGIYH12A6D4FC0E3</td>\n",
       "      <td>1</td>\n",
       "    </tr>\n",
       "    <tr>\n",
       "      <th>1</th>\n",
       "      <td>fd50c4007b68a3737fe052d5a4f78ce8aa117f3d</td>\n",
       "      <td>SOFLJQZ12A6D4FADA6</td>\n",
       "      <td>1</td>\n",
       "    </tr>\n",
       "    <tr>\n",
       "      <th>2</th>\n",
       "      <td>fd50c4007b68a3737fe052d5a4f78ce8aa117f3d</td>\n",
       "      <td>SOHTKMO12AB01843B0</td>\n",
       "      <td>1</td>\n",
       "    </tr>\n",
       "    <tr>\n",
       "      <th>3</th>\n",
       "      <td>fd50c4007b68a3737fe052d5a4f78ce8aa117f3d</td>\n",
       "      <td>SODQZCY12A6D4F9D11</td>\n",
       "      <td>1</td>\n",
       "    </tr>\n",
       "    <tr>\n",
       "      <th>4</th>\n",
       "      <td>fd50c4007b68a3737fe052d5a4f78ce8aa117f3d</td>\n",
       "      <td>SOXLOQG12AF72A2D55</td>\n",
       "      <td>1</td>\n",
       "    </tr>\n",
       "  </tbody>\n",
       "</table>\n",
       "</div>"
      ],
      "text/plain": [
       "                                    user_id             song_id  \\\n",
       "0  fd50c4007b68a3737fe052d5a4f78ce8aa117f3d  SOEGIYH12A6D4FC0E3   \n",
       "1  fd50c4007b68a3737fe052d5a4f78ce8aa117f3d  SOFLJQZ12A6D4FADA6   \n",
       "2  fd50c4007b68a3737fe052d5a4f78ce8aa117f3d  SOHTKMO12AB01843B0   \n",
       "3  fd50c4007b68a3737fe052d5a4f78ce8aa117f3d  SODQZCY12A6D4F9D11   \n",
       "4  fd50c4007b68a3737fe052d5a4f78ce8aa117f3d  SOXLOQG12AF72A2D55   \n",
       "\n",
       "   no.of times listened  \n",
       "0                     1  \n",
       "1                     1  \n",
       "2                     1  \n",
       "3                     1  \n",
       "4                     1  "
      ]
     },
     "execution_count": 5,
     "metadata": {},
     "output_type": "execute_result"
    }
   ],
   "source": [
    "triplets.head()"
   ]
  },
  {
   "cell_type": "code",
   "execution_count": 6,
   "metadata": {},
   "outputs": [
    {
     "data": {
      "text/plain": [
       "(1450932, 3)"
      ]
     },
     "execution_count": 6,
     "metadata": {},
     "output_type": "execute_result"
    }
   ],
   "source": [
    "triplets.shape"
   ]
  },
  {
   "cell_type": "code",
   "execution_count": 7,
   "metadata": {},
   "outputs": [],
   "source": [
    "unique_tracks=pd.read_csv('unique_tracks.txt',sep='<SEP>',names=['track_id','song_id','artist_name','release'])"
   ]
  },
  {
   "cell_type": "code",
   "execution_count": 8,
   "metadata": {},
   "outputs": [
    {
     "data": {
      "text/html": [
       "<div>\n",
       "<style scoped>\n",
       "    .dataframe tbody tr th:only-of-type {\n",
       "        vertical-align: middle;\n",
       "    }\n",
       "\n",
       "    .dataframe tbody tr th {\n",
       "        vertical-align: top;\n",
       "    }\n",
       "\n",
       "    .dataframe thead th {\n",
       "        text-align: right;\n",
       "    }\n",
       "</style>\n",
       "<table border=\"1\" class=\"dataframe\">\n",
       "  <thead>\n",
       "    <tr style=\"text-align: right;\">\n",
       "      <th></th>\n",
       "      <th>track_id</th>\n",
       "      <th>song_id</th>\n",
       "      <th>artist_name</th>\n",
       "      <th>release</th>\n",
       "    </tr>\n",
       "  </thead>\n",
       "  <tbody>\n",
       "    <tr>\n",
       "      <th>0</th>\n",
       "      <td>TRMMMYQ128F932D901</td>\n",
       "      <td>SOQMMHC12AB0180CB8</td>\n",
       "      <td>Faster Pussy cat</td>\n",
       "      <td>Silent Night</td>\n",
       "    </tr>\n",
       "    <tr>\n",
       "      <th>1</th>\n",
       "      <td>TRMMMKD128F425225D</td>\n",
       "      <td>SOVFVAK12A8C1350D9</td>\n",
       "      <td>Karkkiautomaatti</td>\n",
       "      <td>Tanssi vaan</td>\n",
       "    </tr>\n",
       "    <tr>\n",
       "      <th>2</th>\n",
       "      <td>TRMMMRX128F93187D9</td>\n",
       "      <td>SOGTUKN12AB017F4F1</td>\n",
       "      <td>Hudson Mohawke</td>\n",
       "      <td>No One Could Ever</td>\n",
       "    </tr>\n",
       "    <tr>\n",
       "      <th>3</th>\n",
       "      <td>TRMMMCH128F425532C</td>\n",
       "      <td>SOBNYVR12A8C13558C</td>\n",
       "      <td>Yerba Brava</td>\n",
       "      <td>Si Vos QuerÃ©s</td>\n",
       "    </tr>\n",
       "    <tr>\n",
       "      <th>4</th>\n",
       "      <td>TRMMMWA128F426B589</td>\n",
       "      <td>SOHSBXH12A8C13B0DF</td>\n",
       "      <td>Der Mystic</td>\n",
       "      <td>Tangle Of Aspens</td>\n",
       "    </tr>\n",
       "  </tbody>\n",
       "</table>\n",
       "</div>"
      ],
      "text/plain": [
       "             track_id             song_id       artist_name            release\n",
       "0  TRMMMYQ128F932D901  SOQMMHC12AB0180CB8  Faster Pussy cat       Silent Night\n",
       "1  TRMMMKD128F425225D  SOVFVAK12A8C1350D9  Karkkiautomaatti        Tanssi vaan\n",
       "2  TRMMMRX128F93187D9  SOGTUKN12AB017F4F1    Hudson Mohawke  No One Could Ever\n",
       "3  TRMMMCH128F425532C  SOBNYVR12A8C13558C       Yerba Brava     Si Vos QuerÃ©s\n",
       "4  TRMMMWA128F426B589  SOHSBXH12A8C13B0DF        Der Mystic   Tangle Of Aspens"
      ]
     },
     "execution_count": 8,
     "metadata": {},
     "output_type": "execute_result"
    }
   ],
   "source": [
    "unique_tracks.head()"
   ]
  },
  {
   "cell_type": "code",
   "execution_count": 9,
   "metadata": {},
   "outputs": [],
   "source": [
    "songs=pd.read_csv('kaggle_songs.txt')"
   ]
  },
  {
   "cell_type": "code",
   "execution_count": 10,
   "metadata": {},
   "outputs": [],
   "source": [
    "songs.columns=['song_id']"
   ]
  },
  {
   "cell_type": "code",
   "execution_count": 11,
   "metadata": {},
   "outputs": [
    {
     "data": {
      "text/html": [
       "<div>\n",
       "<style scoped>\n",
       "    .dataframe tbody tr th:only-of-type {\n",
       "        vertical-align: middle;\n",
       "    }\n",
       "\n",
       "    .dataframe tbody tr th {\n",
       "        vertical-align: top;\n",
       "    }\n",
       "\n",
       "    .dataframe thead th {\n",
       "        text-align: right;\n",
       "    }\n",
       "</style>\n",
       "<table border=\"1\" class=\"dataframe\">\n",
       "  <thead>\n",
       "    <tr style=\"text-align: right;\">\n",
       "      <th></th>\n",
       "      <th>song_id</th>\n",
       "    </tr>\n",
       "  </thead>\n",
       "  <tbody>\n",
       "    <tr>\n",
       "      <th>0</th>\n",
       "      <td>SOAAADE12A6D4F80CC 2</td>\n",
       "    </tr>\n",
       "    <tr>\n",
       "      <th>1</th>\n",
       "      <td>SOAAADF12A8C13DF62 3</td>\n",
       "    </tr>\n",
       "    <tr>\n",
       "      <th>2</th>\n",
       "      <td>SOAAADZ12A8C1334FB 4</td>\n",
       "    </tr>\n",
       "    <tr>\n",
       "      <th>3</th>\n",
       "      <td>SOAAAFI12A6D4F9C66 5</td>\n",
       "    </tr>\n",
       "    <tr>\n",
       "      <th>4</th>\n",
       "      <td>SOAAAGK12AB0189572 6</td>\n",
       "    </tr>\n",
       "  </tbody>\n",
       "</table>\n",
       "</div>"
      ],
      "text/plain": [
       "                song_id\n",
       "0  SOAAADE12A6D4F80CC 2\n",
       "1  SOAAADF12A8C13DF62 3\n",
       "2  SOAAADZ12A8C1334FB 4\n",
       "3  SOAAAFI12A6D4F9C66 5\n",
       "4  SOAAAGK12AB0189572 6"
      ]
     },
     "execution_count": 11,
     "metadata": {},
     "output_type": "execute_result"
    }
   ],
   "source": [
    "songs.head()"
   ]
  },
  {
   "cell_type": "code",
   "execution_count": 12,
   "metadata": {},
   "outputs": [],
   "source": [
    "users=pd.read_csv('kaggle_users.txt')"
   ]
  },
  {
   "cell_type": "code",
   "execution_count": 13,
   "metadata": {},
   "outputs": [],
   "source": [
    "users.columns=['user_id']"
   ]
  },
  {
   "cell_type": "code",
   "execution_count": 14,
   "metadata": {},
   "outputs": [
    {
     "data": {
      "text/html": [
       "<div>\n",
       "<style scoped>\n",
       "    .dataframe tbody tr th:only-of-type {\n",
       "        vertical-align: middle;\n",
       "    }\n",
       "\n",
       "    .dataframe tbody tr th {\n",
       "        vertical-align: top;\n",
       "    }\n",
       "\n",
       "    .dataframe thead th {\n",
       "        text-align: right;\n",
       "    }\n",
       "</style>\n",
       "<table border=\"1\" class=\"dataframe\">\n",
       "  <thead>\n",
       "    <tr style=\"text-align: right;\">\n",
       "      <th></th>\n",
       "      <th>user_id</th>\n",
       "    </tr>\n",
       "  </thead>\n",
       "  <tbody>\n",
       "    <tr>\n",
       "      <th>0</th>\n",
       "      <td>d7083f5e1d50c264277d624340edaaf3dc16095b</td>\n",
       "    </tr>\n",
       "    <tr>\n",
       "      <th>1</th>\n",
       "      <td>d68dc6fc25248234590d7668a11e3335534ae4b4</td>\n",
       "    </tr>\n",
       "    <tr>\n",
       "      <th>2</th>\n",
       "      <td>9be82340a8b5ef32357fe5af957ccd54736ece95</td>\n",
       "    </tr>\n",
       "    <tr>\n",
       "      <th>3</th>\n",
       "      <td>841b2394ae3a9febbd6b06497b4a8ee8eb24b7f8</td>\n",
       "    </tr>\n",
       "    <tr>\n",
       "      <th>4</th>\n",
       "      <td>91b8fac7dc5e03f6cfaf6e2aa7171f14a8354d62</td>\n",
       "    </tr>\n",
       "  </tbody>\n",
       "</table>\n",
       "</div>"
      ],
      "text/plain": [
       "                                    user_id\n",
       "0  d7083f5e1d50c264277d624340edaaf3dc16095b\n",
       "1  d68dc6fc25248234590d7668a11e3335534ae4b4\n",
       "2  9be82340a8b5ef32357fe5af957ccd54736ece95\n",
       "3  841b2394ae3a9febbd6b06497b4a8ee8eb24b7f8\n",
       "4  91b8fac7dc5e03f6cfaf6e2aa7171f14a8354d62"
      ]
     },
     "execution_count": 14,
     "metadata": {},
     "output_type": "execute_result"
    }
   ],
   "source": [
    "users.head()"
   ]
  },
  {
   "cell_type": "code",
   "execution_count": 15,
   "metadata": {},
   "outputs": [
    {
     "name": "stdout",
     "output_type": "stream",
     "text": [
      "(1450932, 3)\n",
      "(1000000, 4)\n"
     ]
    }
   ],
   "source": [
    "print(triplets.shape)\n",
    "print(unique_tracks.shape)"
   ]
  },
  {
   "cell_type": "code",
   "execution_count": 16,
   "metadata": {},
   "outputs": [
    {
     "data": {
      "text/html": [
       "<div>\n",
       "<style scoped>\n",
       "    .dataframe tbody tr th:only-of-type {\n",
       "        vertical-align: middle;\n",
       "    }\n",
       "\n",
       "    .dataframe tbody tr th {\n",
       "        vertical-align: top;\n",
       "    }\n",
       "\n",
       "    .dataframe thead th {\n",
       "        text-align: right;\n",
       "    }\n",
       "</style>\n",
       "<table border=\"1\" class=\"dataframe\">\n",
       "  <thead>\n",
       "    <tr style=\"text-align: right;\">\n",
       "      <th></th>\n",
       "      <th>user_id</th>\n",
       "      <th>song_id</th>\n",
       "      <th>no.of times listened</th>\n",
       "    </tr>\n",
       "  </thead>\n",
       "  <tbody>\n",
       "    <tr>\n",
       "      <th>0</th>\n",
       "      <td>fd50c4007b68a3737fe052d5a4f78ce8aa117f3d</td>\n",
       "      <td>SOEGIYH12A6D4FC0E3</td>\n",
       "      <td>1</td>\n",
       "    </tr>\n",
       "    <tr>\n",
       "      <th>1</th>\n",
       "      <td>fd50c4007b68a3737fe052d5a4f78ce8aa117f3d</td>\n",
       "      <td>SOFLJQZ12A6D4FADA6</td>\n",
       "      <td>1</td>\n",
       "    </tr>\n",
       "    <tr>\n",
       "      <th>2</th>\n",
       "      <td>fd50c4007b68a3737fe052d5a4f78ce8aa117f3d</td>\n",
       "      <td>SOHTKMO12AB01843B0</td>\n",
       "      <td>1</td>\n",
       "    </tr>\n",
       "    <tr>\n",
       "      <th>3</th>\n",
       "      <td>fd50c4007b68a3737fe052d5a4f78ce8aa117f3d</td>\n",
       "      <td>SODQZCY12A6D4F9D11</td>\n",
       "      <td>1</td>\n",
       "    </tr>\n",
       "    <tr>\n",
       "      <th>4</th>\n",
       "      <td>fd50c4007b68a3737fe052d5a4f78ce8aa117f3d</td>\n",
       "      <td>SOXLOQG12AF72A2D55</td>\n",
       "      <td>1</td>\n",
       "    </tr>\n",
       "  </tbody>\n",
       "</table>\n",
       "</div>"
      ],
      "text/plain": [
       "                                    user_id             song_id  \\\n",
       "0  fd50c4007b68a3737fe052d5a4f78ce8aa117f3d  SOEGIYH12A6D4FC0E3   \n",
       "1  fd50c4007b68a3737fe052d5a4f78ce8aa117f3d  SOFLJQZ12A6D4FADA6   \n",
       "2  fd50c4007b68a3737fe052d5a4f78ce8aa117f3d  SOHTKMO12AB01843B0   \n",
       "3  fd50c4007b68a3737fe052d5a4f78ce8aa117f3d  SODQZCY12A6D4F9D11   \n",
       "4  fd50c4007b68a3737fe052d5a4f78ce8aa117f3d  SOXLOQG12AF72A2D55   \n",
       "\n",
       "   no.of times listened  \n",
       "0                     1  \n",
       "1                     1  \n",
       "2                     1  \n",
       "3                     1  \n",
       "4                     1  "
      ]
     },
     "execution_count": 16,
     "metadata": {},
     "output_type": "execute_result"
    }
   ],
   "source": [
    "triplets.head()"
   ]
  },
  {
   "cell_type": "code",
   "execution_count": 17,
   "metadata": {},
   "outputs": [
    {
     "data": {
      "text/html": [
       "<div>\n",
       "<style scoped>\n",
       "    .dataframe tbody tr th:only-of-type {\n",
       "        vertical-align: middle;\n",
       "    }\n",
       "\n",
       "    .dataframe tbody tr th {\n",
       "        vertical-align: top;\n",
       "    }\n",
       "\n",
       "    .dataframe thead th {\n",
       "        text-align: right;\n",
       "    }\n",
       "</style>\n",
       "<table border=\"1\" class=\"dataframe\">\n",
       "  <thead>\n",
       "    <tr style=\"text-align: right;\">\n",
       "      <th></th>\n",
       "      <th>track_id</th>\n",
       "      <th>song_id</th>\n",
       "      <th>artist_name</th>\n",
       "      <th>release</th>\n",
       "    </tr>\n",
       "  </thead>\n",
       "  <tbody>\n",
       "    <tr>\n",
       "      <th>0</th>\n",
       "      <td>TRMMMYQ128F932D901</td>\n",
       "      <td>SOQMMHC12AB0180CB8</td>\n",
       "      <td>Faster Pussy cat</td>\n",
       "      <td>Silent Night</td>\n",
       "    </tr>\n",
       "    <tr>\n",
       "      <th>1</th>\n",
       "      <td>TRMMMKD128F425225D</td>\n",
       "      <td>SOVFVAK12A8C1350D9</td>\n",
       "      <td>Karkkiautomaatti</td>\n",
       "      <td>Tanssi vaan</td>\n",
       "    </tr>\n",
       "    <tr>\n",
       "      <th>2</th>\n",
       "      <td>TRMMMRX128F93187D9</td>\n",
       "      <td>SOGTUKN12AB017F4F1</td>\n",
       "      <td>Hudson Mohawke</td>\n",
       "      <td>No One Could Ever</td>\n",
       "    </tr>\n",
       "    <tr>\n",
       "      <th>3</th>\n",
       "      <td>TRMMMCH128F425532C</td>\n",
       "      <td>SOBNYVR12A8C13558C</td>\n",
       "      <td>Yerba Brava</td>\n",
       "      <td>Si Vos QuerÃ©s</td>\n",
       "    </tr>\n",
       "    <tr>\n",
       "      <th>4</th>\n",
       "      <td>TRMMMWA128F426B589</td>\n",
       "      <td>SOHSBXH12A8C13B0DF</td>\n",
       "      <td>Der Mystic</td>\n",
       "      <td>Tangle Of Aspens</td>\n",
       "    </tr>\n",
       "  </tbody>\n",
       "</table>\n",
       "</div>"
      ],
      "text/plain": [
       "             track_id             song_id       artist_name            release\n",
       "0  TRMMMYQ128F932D901  SOQMMHC12AB0180CB8  Faster Pussy cat       Silent Night\n",
       "1  TRMMMKD128F425225D  SOVFVAK12A8C1350D9  Karkkiautomaatti        Tanssi vaan\n",
       "2  TRMMMRX128F93187D9  SOGTUKN12AB017F4F1    Hudson Mohawke  No One Could Ever\n",
       "3  TRMMMCH128F425532C  SOBNYVR12A8C13558C       Yerba Brava     Si Vos QuerÃ©s\n",
       "4  TRMMMWA128F426B589  SOHSBXH12A8C13B0DF        Der Mystic   Tangle Of Aspens"
      ]
     },
     "execution_count": 17,
     "metadata": {},
     "output_type": "execute_result"
    }
   ],
   "source": [
    "unique_tracks.head()"
   ]
  },
  {
   "cell_type": "code",
   "execution_count": 18,
   "metadata": {},
   "outputs": [
    {
     "data": {
      "text/html": [
       "<div>\n",
       "<style scoped>\n",
       "    .dataframe tbody tr th:only-of-type {\n",
       "        vertical-align: middle;\n",
       "    }\n",
       "\n",
       "    .dataframe tbody tr th {\n",
       "        vertical-align: top;\n",
       "    }\n",
       "\n",
       "    .dataframe thead th {\n",
       "        text-align: right;\n",
       "    }\n",
       "</style>\n",
       "<table border=\"1\" class=\"dataframe\">\n",
       "  <thead>\n",
       "    <tr style=\"text-align: right;\">\n",
       "      <th></th>\n",
       "      <th>user_id</th>\n",
       "      <th>song_id</th>\n",
       "      <th>no.of times listened</th>\n",
       "      <th>track_id</th>\n",
       "      <th>artist_name</th>\n",
       "      <th>release</th>\n",
       "    </tr>\n",
       "  </thead>\n",
       "  <tbody>\n",
       "    <tr>\n",
       "      <th>0</th>\n",
       "      <td>fd50c4007b68a3737fe052d5a4f78ce8aa117f3d</td>\n",
       "      <td>SOEGIYH12A6D4FC0E3</td>\n",
       "      <td>1</td>\n",
       "      <td>TRLGMFJ128F4217DBE</td>\n",
       "      <td>Barry Tuckwell/Academy of St Martin-in-the-Fie...</td>\n",
       "      <td>Horn Concerto No. 4 in E flat K495: II. Romanc...</td>\n",
       "    </tr>\n",
       "    <tr>\n",
       "      <th>1</th>\n",
       "      <td>248378ac27e1745d6a9d59392b7dc5b02a6186a6</td>\n",
       "      <td>SOEGIYH12A6D4FC0E3</td>\n",
       "      <td>1</td>\n",
       "      <td>TRLGMFJ128F4217DBE</td>\n",
       "      <td>Barry Tuckwell/Academy of St Martin-in-the-Fie...</td>\n",
       "      <td>Horn Concerto No. 4 in E flat K495: II. Romanc...</td>\n",
       "    </tr>\n",
       "    <tr>\n",
       "      <th>2</th>\n",
       "      <td>7c49f3e11a6fce79ae60b44df2a3edcf6eb2e163</td>\n",
       "      <td>SOEGIYH12A6D4FC0E3</td>\n",
       "      <td>1</td>\n",
       "      <td>TRLGMFJ128F4217DBE</td>\n",
       "      <td>Barry Tuckwell/Academy of St Martin-in-the-Fie...</td>\n",
       "      <td>Horn Concerto No. 4 in E flat K495: II. Romanc...</td>\n",
       "    </tr>\n",
       "    <tr>\n",
       "      <th>3</th>\n",
       "      <td>8061f61372876878c2d67bc49b3ddbd2c83d69e2</td>\n",
       "      <td>SOEGIYH12A6D4FC0E3</td>\n",
       "      <td>1</td>\n",
       "      <td>TRLGMFJ128F4217DBE</td>\n",
       "      <td>Barry Tuckwell/Academy of St Martin-in-the-Fie...</td>\n",
       "      <td>Horn Concerto No. 4 in E flat K495: II. Romanc...</td>\n",
       "    </tr>\n",
       "    <tr>\n",
       "      <th>4</th>\n",
       "      <td>d47c829c4ff6270f9ab82ca36b2805951b62a208</td>\n",
       "      <td>SOEGIYH12A6D4FC0E3</td>\n",
       "      <td>1</td>\n",
       "      <td>TRLGMFJ128F4217DBE</td>\n",
       "      <td>Barry Tuckwell/Academy of St Martin-in-the-Fie...</td>\n",
       "      <td>Horn Concerto No. 4 in E flat K495: II. Romanc...</td>\n",
       "    </tr>\n",
       "  </tbody>\n",
       "</table>\n",
       "</div>"
      ],
      "text/plain": [
       "                                    user_id             song_id  \\\n",
       "0  fd50c4007b68a3737fe052d5a4f78ce8aa117f3d  SOEGIYH12A6D4FC0E3   \n",
       "1  248378ac27e1745d6a9d59392b7dc5b02a6186a6  SOEGIYH12A6D4FC0E3   \n",
       "2  7c49f3e11a6fce79ae60b44df2a3edcf6eb2e163  SOEGIYH12A6D4FC0E3   \n",
       "3  8061f61372876878c2d67bc49b3ddbd2c83d69e2  SOEGIYH12A6D4FC0E3   \n",
       "4  d47c829c4ff6270f9ab82ca36b2805951b62a208  SOEGIYH12A6D4FC0E3   \n",
       "\n",
       "   no.of times listened            track_id  \\\n",
       "0                     1  TRLGMFJ128F4217DBE   \n",
       "1                     1  TRLGMFJ128F4217DBE   \n",
       "2                     1  TRLGMFJ128F4217DBE   \n",
       "3                     1  TRLGMFJ128F4217DBE   \n",
       "4                     1  TRLGMFJ128F4217DBE   \n",
       "\n",
       "                                         artist_name  \\\n",
       "0  Barry Tuckwell/Academy of St Martin-in-the-Fie...   \n",
       "1  Barry Tuckwell/Academy of St Martin-in-the-Fie...   \n",
       "2  Barry Tuckwell/Academy of St Martin-in-the-Fie...   \n",
       "3  Barry Tuckwell/Academy of St Martin-in-the-Fie...   \n",
       "4  Barry Tuckwell/Academy of St Martin-in-the-Fie...   \n",
       "\n",
       "                                             release  \n",
       "0  Horn Concerto No. 4 in E flat K495: II. Romanc...  \n",
       "1  Horn Concerto No. 4 in E flat K495: II. Romanc...  \n",
       "2  Horn Concerto No. 4 in E flat K495: II. Romanc...  \n",
       "3  Horn Concerto No. 4 in E flat K495: II. Romanc...  \n",
       "4  Horn Concerto No. 4 in E flat K495: II. Romanc...  "
      ]
     },
     "execution_count": 18,
     "metadata": {},
     "output_type": "execute_result"
    }
   ],
   "source": [
    "df=pd.merge(triplets,unique_tracks,on='song_id')\n",
    "df.head()"
   ]
  },
  {
   "cell_type": "code",
   "execution_count": 19,
   "metadata": {},
   "outputs": [],
   "source": [
    "#Removing track_id column as it is not needed for us \n",
    "df.drop('track_id', axis=1, inplace=True)"
   ]
  },
  {
   "cell_type": "code",
   "execution_count": 20,
   "metadata": {},
   "outputs": [
    {
     "data": {
      "text/html": [
       "<div>\n",
       "<style scoped>\n",
       "    .dataframe tbody tr th:only-of-type {\n",
       "        vertical-align: middle;\n",
       "    }\n",
       "\n",
       "    .dataframe tbody tr th {\n",
       "        vertical-align: top;\n",
       "    }\n",
       "\n",
       "    .dataframe thead th {\n",
       "        text-align: right;\n",
       "    }\n",
       "</style>\n",
       "<table border=\"1\" class=\"dataframe\">\n",
       "  <thead>\n",
       "    <tr style=\"text-align: right;\">\n",
       "      <th></th>\n",
       "      <th>user_id</th>\n",
       "      <th>song_id</th>\n",
       "      <th>no.of times listened</th>\n",
       "      <th>artist_name</th>\n",
       "      <th>release</th>\n",
       "    </tr>\n",
       "  </thead>\n",
       "  <tbody>\n",
       "    <tr>\n",
       "      <th>0</th>\n",
       "      <td>fd50c4007b68a3737fe052d5a4f78ce8aa117f3d</td>\n",
       "      <td>SOEGIYH12A6D4FC0E3</td>\n",
       "      <td>1</td>\n",
       "      <td>Barry Tuckwell/Academy of St Martin-in-the-Fie...</td>\n",
       "      <td>Horn Concerto No. 4 in E flat K495: II. Romanc...</td>\n",
       "    </tr>\n",
       "    <tr>\n",
       "      <th>1</th>\n",
       "      <td>248378ac27e1745d6a9d59392b7dc5b02a6186a6</td>\n",
       "      <td>SOEGIYH12A6D4FC0E3</td>\n",
       "      <td>1</td>\n",
       "      <td>Barry Tuckwell/Academy of St Martin-in-the-Fie...</td>\n",
       "      <td>Horn Concerto No. 4 in E flat K495: II. Romanc...</td>\n",
       "    </tr>\n",
       "    <tr>\n",
       "      <th>2</th>\n",
       "      <td>7c49f3e11a6fce79ae60b44df2a3edcf6eb2e163</td>\n",
       "      <td>SOEGIYH12A6D4FC0E3</td>\n",
       "      <td>1</td>\n",
       "      <td>Barry Tuckwell/Academy of St Martin-in-the-Fie...</td>\n",
       "      <td>Horn Concerto No. 4 in E flat K495: II. Romanc...</td>\n",
       "    </tr>\n",
       "    <tr>\n",
       "      <th>3</th>\n",
       "      <td>8061f61372876878c2d67bc49b3ddbd2c83d69e2</td>\n",
       "      <td>SOEGIYH12A6D4FC0E3</td>\n",
       "      <td>1</td>\n",
       "      <td>Barry Tuckwell/Academy of St Martin-in-the-Fie...</td>\n",
       "      <td>Horn Concerto No. 4 in E flat K495: II. Romanc...</td>\n",
       "    </tr>\n",
       "    <tr>\n",
       "      <th>4</th>\n",
       "      <td>d47c829c4ff6270f9ab82ca36b2805951b62a208</td>\n",
       "      <td>SOEGIYH12A6D4FC0E3</td>\n",
       "      <td>1</td>\n",
       "      <td>Barry Tuckwell/Academy of St Martin-in-the-Fie...</td>\n",
       "      <td>Horn Concerto No. 4 in E flat K495: II. Romanc...</td>\n",
       "    </tr>\n",
       "  </tbody>\n",
       "</table>\n",
       "</div>"
      ],
      "text/plain": [
       "                                    user_id             song_id  \\\n",
       "0  fd50c4007b68a3737fe052d5a4f78ce8aa117f3d  SOEGIYH12A6D4FC0E3   \n",
       "1  248378ac27e1745d6a9d59392b7dc5b02a6186a6  SOEGIYH12A6D4FC0E3   \n",
       "2  7c49f3e11a6fce79ae60b44df2a3edcf6eb2e163  SOEGIYH12A6D4FC0E3   \n",
       "3  8061f61372876878c2d67bc49b3ddbd2c83d69e2  SOEGIYH12A6D4FC0E3   \n",
       "4  d47c829c4ff6270f9ab82ca36b2805951b62a208  SOEGIYH12A6D4FC0E3   \n",
       "\n",
       "   no.of times listened                                        artist_name  \\\n",
       "0                     1  Barry Tuckwell/Academy of St Martin-in-the-Fie...   \n",
       "1                     1  Barry Tuckwell/Academy of St Martin-in-the-Fie...   \n",
       "2                     1  Barry Tuckwell/Academy of St Martin-in-the-Fie...   \n",
       "3                     1  Barry Tuckwell/Academy of St Martin-in-the-Fie...   \n",
       "4                     1  Barry Tuckwell/Academy of St Martin-in-the-Fie...   \n",
       "\n",
       "                                             release  \n",
       "0  Horn Concerto No. 4 in E flat K495: II. Romanc...  \n",
       "1  Horn Concerto No. 4 in E flat K495: II. Romanc...  \n",
       "2  Horn Concerto No. 4 in E flat K495: II. Romanc...  \n",
       "3  Horn Concerto No. 4 in E flat K495: II. Romanc...  \n",
       "4  Horn Concerto No. 4 in E flat K495: II. Romanc...  "
      ]
     },
     "execution_count": 20,
     "metadata": {},
     "output_type": "execute_result"
    }
   ],
   "source": [
    "df.head()"
   ]
  },
  {
   "cell_type": "code",
   "execution_count": 21,
   "metadata": {},
   "outputs": [
    {
     "data": {
      "text/html": [
       "<div>\n",
       "<style scoped>\n",
       "    .dataframe tbody tr th:only-of-type {\n",
       "        vertical-align: middle;\n",
       "    }\n",
       "\n",
       "    .dataframe tbody tr th {\n",
       "        vertical-align: top;\n",
       "    }\n",
       "\n",
       "    .dataframe thead th {\n",
       "        text-align: right;\n",
       "    }\n",
       "</style>\n",
       "<table border=\"1\" class=\"dataframe\">\n",
       "  <thead>\n",
       "    <tr style=\"text-align: right;\">\n",
       "      <th></th>\n",
       "      <th>no.of times listened</th>\n",
       "    </tr>\n",
       "  </thead>\n",
       "  <tbody>\n",
       "    <tr>\n",
       "      <th>count</th>\n",
       "      <td>1.491951e+06</td>\n",
       "    </tr>\n",
       "    <tr>\n",
       "      <th>mean</th>\n",
       "      <td>3.179720e+00</td>\n",
       "    </tr>\n",
       "    <tr>\n",
       "      <th>std</th>\n",
       "      <td>7.015025e+00</td>\n",
       "    </tr>\n",
       "    <tr>\n",
       "      <th>min</th>\n",
       "      <td>1.000000e+00</td>\n",
       "    </tr>\n",
       "    <tr>\n",
       "      <th>25%</th>\n",
       "      <td>1.000000e+00</td>\n",
       "    </tr>\n",
       "    <tr>\n",
       "      <th>50%</th>\n",
       "      <td>1.000000e+00</td>\n",
       "    </tr>\n",
       "    <tr>\n",
       "      <th>75%</th>\n",
       "      <td>3.000000e+00</td>\n",
       "    </tr>\n",
       "    <tr>\n",
       "      <th>max</th>\n",
       "      <td>9.230000e+02</td>\n",
       "    </tr>\n",
       "  </tbody>\n",
       "</table>\n",
       "</div>"
      ],
      "text/plain": [
       "       no.of times listened\n",
       "count          1.491951e+06\n",
       "mean           3.179720e+00\n",
       "std            7.015025e+00\n",
       "min            1.000000e+00\n",
       "25%            1.000000e+00\n",
       "50%            1.000000e+00\n",
       "75%            3.000000e+00\n",
       "max            9.230000e+02"
      ]
     },
     "execution_count": 21,
     "metadata": {},
     "output_type": "execute_result"
    }
   ],
   "source": [
    "df.describe()\n",
    "#it shows the frequency of the songs"
   ]
  },
  {
   "cell_type": "code",
   "execution_count": 22,
   "metadata": {},
   "outputs": [
    {
     "name": "stdout",
     "output_type": "stream",
     "text": [
      "Total no.of songs : 163206\n",
      "Total no.of users : 110000\n",
      "Total no.of artists : 28367\n",
      "Total no.of release : 137674\n"
     ]
    }
   ],
   "source": [
    "print('Total no.of songs :',df['song_id'].nunique())\n",
    "print('Total no.of users :',df['user_id'].nunique())\n",
    "print('Total no.of artists :',df['artist_name'].nunique())\n",
    "print('Total no.of release :',df['release'].nunique())"
   ]
  },
  {
   "cell_type": "code",
   "execution_count": 23,
   "metadata": {},
   "outputs": [
    {
     "name": "stdout",
     "output_type": "stream",
     "text": [
      "<class 'pandas.core.frame.DataFrame'>\n",
      "Int64Index: 1491951 entries, 0 to 1491950\n",
      "Data columns (total 5 columns):\n",
      " #   Column                Non-Null Count    Dtype \n",
      "---  ------                --------------    ----- \n",
      " 0   user_id               1491951 non-null  object\n",
      " 1   song_id               1491951 non-null  object\n",
      " 2   no.of times listened  1491951 non-null  int64 \n",
      " 3   artist_name           1491951 non-null  object\n",
      " 4   release               1491950 non-null  object\n",
      "dtypes: int64(1), object(4)\n",
      "memory usage: 68.3+ MB\n"
     ]
    }
   ],
   "source": [
    "#checking for null values\n",
    "df.info()"
   ]
  },
  {
   "cell_type": "code",
   "execution_count": 24,
   "metadata": {},
   "outputs": [],
   "source": [
    "#As there is only 1 null value in release feature we can drop that row"
   ]
  },
  {
   "cell_type": "code",
   "execution_count": 25,
   "metadata": {},
   "outputs": [],
   "source": [
    "df.dropna(axis=0,how='any',inplace=True)"
   ]
  },
  {
   "cell_type": "code",
   "execution_count": 26,
   "metadata": {},
   "outputs": [
    {
     "name": "stdout",
     "output_type": "stream",
     "text": [
      "<class 'pandas.core.frame.DataFrame'>\n",
      "Int64Index: 1491950 entries, 0 to 1491950\n",
      "Data columns (total 5 columns):\n",
      " #   Column                Non-Null Count    Dtype \n",
      "---  ------                --------------    ----- \n",
      " 0   user_id               1491950 non-null  object\n",
      " 1   song_id               1491950 non-null  object\n",
      " 2   no.of times listened  1491950 non-null  int64 \n",
      " 3   artist_name           1491950 non-null  object\n",
      " 4   release               1491950 non-null  object\n",
      "dtypes: int64(1), object(4)\n",
      "memory usage: 68.3+ MB\n"
     ]
    }
   ],
   "source": [
    "df.info()"
   ]
  },
  {
   "cell_type": "code",
   "execution_count": 27,
   "metadata": {},
   "outputs": [
    {
     "data": {
      "text/html": [
       "<div>\n",
       "<style scoped>\n",
       "    .dataframe tbody tr th:only-of-type {\n",
       "        vertical-align: middle;\n",
       "    }\n",
       "\n",
       "    .dataframe tbody tr th {\n",
       "        vertical-align: top;\n",
       "    }\n",
       "\n",
       "    .dataframe thead th {\n",
       "        text-align: right;\n",
       "    }\n",
       "</style>\n",
       "<table border=\"1\" class=\"dataframe\">\n",
       "  <thead>\n",
       "    <tr style=\"text-align: right;\">\n",
       "      <th></th>\n",
       "      <th>no.of times listened</th>\n",
       "    </tr>\n",
       "    <tr>\n",
       "      <th>song_id</th>\n",
       "      <th></th>\n",
       "    </tr>\n",
       "  </thead>\n",
       "  <tbody>\n",
       "    <tr>\n",
       "      <th>SOBONKR12A58A7A7E0</th>\n",
       "      <td>35431</td>\n",
       "    </tr>\n",
       "    <tr>\n",
       "      <th>SOAUWYT12A81C206F1</th>\n",
       "      <td>33179</td>\n",
       "    </tr>\n",
       "    <tr>\n",
       "      <th>SOSXLTC12AF72A7F54</th>\n",
       "      <td>24359</td>\n",
       "    </tr>\n",
       "    <tr>\n",
       "      <th>SOFRQTD12A81C233C0</th>\n",
       "      <td>19454</td>\n",
       "    </tr>\n",
       "    <tr>\n",
       "      <th>SOEGIYH12A6D4FC0E3</th>\n",
       "      <td>17115</td>\n",
       "    </tr>\n",
       "    <tr>\n",
       "      <th>SOAXGDH12A8C13F8A1</th>\n",
       "      <td>14279</td>\n",
       "    </tr>\n",
       "    <tr>\n",
       "      <th>SONYKOW12AB01849C9</th>\n",
       "      <td>12392</td>\n",
       "    </tr>\n",
       "    <tr>\n",
       "      <th>SOVDSJC12A58A7A271</th>\n",
       "      <td>11610</td>\n",
       "    </tr>\n",
       "    <tr>\n",
       "      <th>SOWCKVR12A8C142411</th>\n",
       "      <td>10926</td>\n",
       "    </tr>\n",
       "    <tr>\n",
       "      <th>SOUFTBI12AB0183F65</th>\n",
       "      <td>10794</td>\n",
       "    </tr>\n",
       "  </tbody>\n",
       "</table>\n",
       "</div>"
      ],
      "text/plain": [
       "                    no.of times listened\n",
       "song_id                                 \n",
       "SOBONKR12A58A7A7E0                 35431\n",
       "SOAUWYT12A81C206F1                 33179\n",
       "SOSXLTC12AF72A7F54                 24359\n",
       "SOFRQTD12A81C233C0                 19454\n",
       "SOEGIYH12A6D4FC0E3                 17115\n",
       "SOAXGDH12A8C13F8A1                 14279\n",
       "SONYKOW12AB01849C9                 12392\n",
       "SOVDSJC12A58A7A271                 11610\n",
       "SOWCKVR12A8C142411                 10926\n",
       "SOUFTBI12AB0183F65                 10794"
      ]
     },
     "execution_count": 27,
     "metadata": {},
     "output_type": "execute_result"
    }
   ],
   "source": [
    "#top 10 played songs\n",
    "df.groupby([\"song_id\"]).sum().sort_values(\"no.of times listened\",ascending=False).head(10)"
   ]
  },
  {
   "cell_type": "code",
   "execution_count": 28,
   "metadata": {},
   "outputs": [
    {
     "data": {
      "text/html": [
       "<div>\n",
       "<style scoped>\n",
       "    .dataframe tbody tr th:only-of-type {\n",
       "        vertical-align: middle;\n",
       "    }\n",
       "\n",
       "    .dataframe tbody tr th {\n",
       "        vertical-align: top;\n",
       "    }\n",
       "\n",
       "    .dataframe thead th {\n",
       "        text-align: right;\n",
       "    }\n",
       "</style>\n",
       "<table border=\"1\" class=\"dataframe\">\n",
       "  <thead>\n",
       "    <tr style=\"text-align: right;\">\n",
       "      <th></th>\n",
       "      <th>no.of times listened</th>\n",
       "    </tr>\n",
       "    <tr>\n",
       "      <th>artist_name</th>\n",
       "      <th></th>\n",
       "    </tr>\n",
       "  </thead>\n",
       "  <tbody>\n",
       "    <tr>\n",
       "      <th>Kings Of Leon</th>\n",
       "      <td>43775</td>\n",
       "    </tr>\n",
       "    <tr>\n",
       "      <th>Coldplay</th>\n",
       "      <td>36203</td>\n",
       "    </tr>\n",
       "    <tr>\n",
       "      <th>Dwight Yoakam</th>\n",
       "      <td>35687</td>\n",
       "    </tr>\n",
       "    <tr>\n",
       "      <th>BjÃ¶rk</th>\n",
       "      <td>35210</td>\n",
       "    </tr>\n",
       "    <tr>\n",
       "      <th>Justin Bieber</th>\n",
       "      <td>31295</td>\n",
       "    </tr>\n",
       "    <tr>\n",
       "      <th>Florence + The Machine</th>\n",
       "      <td>28224</td>\n",
       "    </tr>\n",
       "    <tr>\n",
       "      <th>Eminem</th>\n",
       "      <td>22914</td>\n",
       "    </tr>\n",
       "    <tr>\n",
       "      <th>Muse</th>\n",
       "      <td>22645</td>\n",
       "    </tr>\n",
       "    <tr>\n",
       "      <th>Taylor Swift</th>\n",
       "      <td>21844</td>\n",
       "    </tr>\n",
       "    <tr>\n",
       "      <th>Alliance Ethnik</th>\n",
       "      <td>21603</td>\n",
       "    </tr>\n",
       "  </tbody>\n",
       "</table>\n",
       "</div>"
      ],
      "text/plain": [
       "                        no.of times listened\n",
       "artist_name                                 \n",
       "Kings Of Leon                          43775\n",
       "Coldplay                               36203\n",
       "Dwight Yoakam                          35687\n",
       "BjÃ¶rk                                 35210\n",
       "Justin Bieber                          31295\n",
       "Florence + The Machine                 28224\n",
       "Eminem                                 22914\n",
       "Muse                                   22645\n",
       "Taylor Swift                           21844\n",
       "Alliance Ethnik                        21603"
      ]
     },
     "execution_count": 28,
     "metadata": {},
     "output_type": "execute_result"
    }
   ],
   "source": [
    "#top 10 artists\n",
    "df.groupby([\"artist_name\"]).sum().sort_values(\"no.of times listened\",ascending=False).head(10)"
   ]
  },
  {
   "cell_type": "markdown",
   "metadata": {},
   "source": [
    "## Data preprocessing"
   ]
  },
  {
   "cell_type": "code",
   "execution_count": 29,
   "metadata": {},
   "outputs": [
    {
     "data": {
      "text/plain": [
       "0          False\n",
       "1          False\n",
       "2          False\n",
       "3          False\n",
       "4          False\n",
       "           ...  \n",
       "1491946    False\n",
       "1491947    False\n",
       "1491948    False\n",
       "1491949    False\n",
       "1491950    False\n",
       "Length: 1491950, dtype: bool"
      ]
     },
     "execution_count": 29,
     "metadata": {},
     "output_type": "execute_result"
    }
   ],
   "source": [
    "df.duplicated()"
   ]
  },
  {
   "cell_type": "code",
   "execution_count": 30,
   "metadata": {},
   "outputs": [
    {
     "data": {
      "text/plain": [
       "False    1456563\n",
       "True       35387\n",
       "dtype: int64"
      ]
     },
     "execution_count": 30,
     "metadata": {},
     "output_type": "execute_result"
    }
   ],
   "source": [
    "df.duplicated().value_counts()"
   ]
  },
  {
   "cell_type": "code",
   "execution_count": 31,
   "metadata": {},
   "outputs": [],
   "source": [
    "df.drop_duplicates(keep='first',inplace=True)"
   ]
  },
  {
   "cell_type": "code",
   "execution_count": 32,
   "metadata": {},
   "outputs": [
    {
     "name": "stdout",
     "output_type": "stream",
     "text": [
      "<class 'pandas.core.frame.DataFrame'>\n",
      "Int64Index: 1456563 entries, 0 to 1491950\n",
      "Data columns (total 5 columns):\n",
      " #   Column                Non-Null Count    Dtype \n",
      "---  ------                --------------    ----- \n",
      " 0   user_id               1456563 non-null  object\n",
      " 1   song_id               1456563 non-null  object\n",
      " 2   no.of times listened  1456563 non-null  int64 \n",
      " 3   artist_name           1456563 non-null  object\n",
      " 4   release               1456563 non-null  object\n",
      "dtypes: int64(1), object(4)\n",
      "memory usage: 66.7+ MB\n"
     ]
    }
   ],
   "source": [
    "df.info()"
   ]
  },
  {
   "cell_type": "code",
   "execution_count": 33,
   "metadata": {},
   "outputs": [
    {
     "data": {
      "text/html": [
       "<div>\n",
       "<style scoped>\n",
       "    .dataframe tbody tr th:only-of-type {\n",
       "        vertical-align: middle;\n",
       "    }\n",
       "\n",
       "    .dataframe tbody tr th {\n",
       "        vertical-align: top;\n",
       "    }\n",
       "\n",
       "    .dataframe thead th {\n",
       "        text-align: right;\n",
       "    }\n",
       "</style>\n",
       "<table border=\"1\" class=\"dataframe\">\n",
       "  <thead>\n",
       "    <tr style=\"text-align: right;\">\n",
       "      <th></th>\n",
       "      <th>user_id</th>\n",
       "      <th>song_id</th>\n",
       "      <th>no.of times listened</th>\n",
       "      <th>artist_name</th>\n",
       "      <th>release</th>\n",
       "      <th>songs</th>\n",
       "    </tr>\n",
       "  </thead>\n",
       "  <tbody>\n",
       "    <tr>\n",
       "      <th>0</th>\n",
       "      <td>fd50c4007b68a3737fe052d5a4f78ce8aa117f3d</td>\n",
       "      <td>SOEGIYH12A6D4FC0E3</td>\n",
       "      <td>1</td>\n",
       "      <td>Barry Tuckwell/Academy of St Martin-in-the-Fie...</td>\n",
       "      <td>Horn Concerto No. 4 in E flat K495: II. Romanc...</td>\n",
       "      <td>Horn Concerto No. 4 in E flat K495: II. Romanc...</td>\n",
       "    </tr>\n",
       "  </tbody>\n",
       "</table>\n",
       "</div>"
      ],
      "text/plain": [
       "                                    user_id             song_id  \\\n",
       "0  fd50c4007b68a3737fe052d5a4f78ce8aa117f3d  SOEGIYH12A6D4FC0E3   \n",
       "\n",
       "   no.of times listened                                        artist_name  \\\n",
       "0                     1  Barry Tuckwell/Academy of St Martin-in-the-Fie...   \n",
       "\n",
       "                                             release  \\\n",
       "0  Horn Concerto No. 4 in E flat K495: II. Romanc...   \n",
       "\n",
       "                                               songs  \n",
       "0  Horn Concerto No. 4 in E flat K495: II. Romanc...  "
      ]
     },
     "execution_count": 33,
     "metadata": {},
     "output_type": "execute_result"
    }
   ],
   "source": [
    "df[\"songs\"]=df[\"release\"]+\"-\"+df[\"artist_name\"]\n",
    "df.head(1)"
   ]
  },
  {
   "cell_type": "code",
   "execution_count": 34,
   "metadata": {},
   "outputs": [],
   "source": [
    "df_temp=df.drop([\"artist_name\",\"release\"] , axis=1 )"
   ]
  },
  {
   "cell_type": "code",
   "execution_count": 35,
   "metadata": {},
   "outputs": [
    {
     "data": {
      "text/plain": [
       "'Horn Concerto No. 4 in E flat K495: II. Romance (Andante cantabile)-Barry Tuckwell/Academy of St Martin-in-the-Fields/Sir Neville Marriner'"
      ]
     },
     "execution_count": 35,
     "metadata": {},
     "output_type": "execute_result"
    }
   ],
   "source": [
    "df_temp[\"songs\"][0]"
   ]
  },
  {
   "cell_type": "code",
   "execution_count": 36,
   "metadata": {},
   "outputs": [
    {
     "data": {
      "text/html": [
       "<div>\n",
       "<style scoped>\n",
       "    .dataframe tbody tr th:only-of-type {\n",
       "        vertical-align: middle;\n",
       "    }\n",
       "\n",
       "    .dataframe tbody tr th {\n",
       "        vertical-align: top;\n",
       "    }\n",
       "\n",
       "    .dataframe thead th {\n",
       "        text-align: right;\n",
       "    }\n",
       "</style>\n",
       "<table border=\"1\" class=\"dataframe\">\n",
       "  <thead>\n",
       "    <tr style=\"text-align: right;\">\n",
       "      <th></th>\n",
       "      <th>user_id</th>\n",
       "      <th>song_id</th>\n",
       "      <th>no.of times listened</th>\n",
       "      <th>songs</th>\n",
       "    </tr>\n",
       "  </thead>\n",
       "  <tbody>\n",
       "    <tr>\n",
       "      <th>0</th>\n",
       "      <td>fd50c4007b68a3737fe052d5a4f78ce8aa117f3d</td>\n",
       "      <td>SOEGIYH12A6D4FC0E3</td>\n",
       "      <td>1</td>\n",
       "      <td>Horn Concerto No. 4 in E flat K495: II. Romanc...</td>\n",
       "    </tr>\n",
       "    <tr>\n",
       "      <th>1</th>\n",
       "      <td>248378ac27e1745d6a9d59392b7dc5b02a6186a6</td>\n",
       "      <td>SOEGIYH12A6D4FC0E3</td>\n",
       "      <td>1</td>\n",
       "      <td>Horn Concerto No. 4 in E flat K495: II. Romanc...</td>\n",
       "    </tr>\n",
       "    <tr>\n",
       "      <th>2</th>\n",
       "      <td>7c49f3e11a6fce79ae60b44df2a3edcf6eb2e163</td>\n",
       "      <td>SOEGIYH12A6D4FC0E3</td>\n",
       "      <td>1</td>\n",
       "      <td>Horn Concerto No. 4 in E flat K495: II. Romanc...</td>\n",
       "    </tr>\n",
       "    <tr>\n",
       "      <th>3</th>\n",
       "      <td>8061f61372876878c2d67bc49b3ddbd2c83d69e2</td>\n",
       "      <td>SOEGIYH12A6D4FC0E3</td>\n",
       "      <td>1</td>\n",
       "      <td>Horn Concerto No. 4 in E flat K495: II. Romanc...</td>\n",
       "    </tr>\n",
       "    <tr>\n",
       "      <th>4</th>\n",
       "      <td>d47c829c4ff6270f9ab82ca36b2805951b62a208</td>\n",
       "      <td>SOEGIYH12A6D4FC0E3</td>\n",
       "      <td>1</td>\n",
       "      <td>Horn Concerto No. 4 in E flat K495: II. Romanc...</td>\n",
       "    </tr>\n",
       "    <tr>\n",
       "      <th>5</th>\n",
       "      <td>a344d1f94e0f6d5783860f62d8bc8ba2fec3d530</td>\n",
       "      <td>SOEGIYH12A6D4FC0E3</td>\n",
       "      <td>2</td>\n",
       "      <td>Horn Concerto No. 4 in E flat K495: II. Romanc...</td>\n",
       "    </tr>\n",
       "    <tr>\n",
       "      <th>6</th>\n",
       "      <td>ab3883c6182f050d6bbca6f2cd8983eb81084417</td>\n",
       "      <td>SOEGIYH12A6D4FC0E3</td>\n",
       "      <td>6</td>\n",
       "      <td>Horn Concerto No. 4 in E flat K495: II. Romanc...</td>\n",
       "    </tr>\n",
       "    <tr>\n",
       "      <th>7</th>\n",
       "      <td>ff8891b901eed1a3abc9bd4c53a17d2bcdc0ead7</td>\n",
       "      <td>SOEGIYH12A6D4FC0E3</td>\n",
       "      <td>1</td>\n",
       "      <td>Horn Concerto No. 4 in E flat K495: II. Romanc...</td>\n",
       "    </tr>\n",
       "    <tr>\n",
       "      <th>8</th>\n",
       "      <td>4fbde29be137e7179046c148f9e15db17c3278be</td>\n",
       "      <td>SOEGIYH12A6D4FC0E3</td>\n",
       "      <td>5</td>\n",
       "      <td>Horn Concerto No. 4 in E flat K495: II. Romanc...</td>\n",
       "    </tr>\n",
       "    <tr>\n",
       "      <th>9</th>\n",
       "      <td>93d158458cbf375218ae7de7fd428bf94cc1491e</td>\n",
       "      <td>SOEGIYH12A6D4FC0E3</td>\n",
       "      <td>1</td>\n",
       "      <td>Horn Concerto No. 4 in E flat K495: II. Romanc...</td>\n",
       "    </tr>\n",
       "    <tr>\n",
       "      <th>10</th>\n",
       "      <td>5495dccfae0b78a23c60c95db39e1e1d6e99ba6d</td>\n",
       "      <td>SOEGIYH12A6D4FC0E3</td>\n",
       "      <td>1</td>\n",
       "      <td>Horn Concerto No. 4 in E flat K495: II. Romanc...</td>\n",
       "    </tr>\n",
       "    <tr>\n",
       "      <th>11</th>\n",
       "      <td>5f3cd0eac9cdeb89958e3927f0f7b230ada8a24f</td>\n",
       "      <td>SOEGIYH12A6D4FC0E3</td>\n",
       "      <td>5</td>\n",
       "      <td>Horn Concerto No. 4 in E flat K495: II. Romanc...</td>\n",
       "    </tr>\n",
       "    <tr>\n",
       "      <th>12</th>\n",
       "      <td>cb91826d83e23a0e7423c114c233a8618e11bab3</td>\n",
       "      <td>SOEGIYH12A6D4FC0E3</td>\n",
       "      <td>6</td>\n",
       "      <td>Horn Concerto No. 4 in E flat K495: II. Romanc...</td>\n",
       "    </tr>\n",
       "    <tr>\n",
       "      <th>13</th>\n",
       "      <td>58e850b81533418bc6a1aaaf300c3f284fd85bac</td>\n",
       "      <td>SOEGIYH12A6D4FC0E3</td>\n",
       "      <td>1</td>\n",
       "      <td>Horn Concerto No. 4 in E flat K495: II. Romanc...</td>\n",
       "    </tr>\n",
       "    <tr>\n",
       "      <th>14</th>\n",
       "      <td>9ca08e25a5c4144b1f2cd6890d8cb65717e7c73e</td>\n",
       "      <td>SOEGIYH12A6D4FC0E3</td>\n",
       "      <td>11</td>\n",
       "      <td>Horn Concerto No. 4 in E flat K495: II. Romanc...</td>\n",
       "    </tr>\n",
       "    <tr>\n",
       "      <th>15</th>\n",
       "      <td>1e6764b1702c8cc0a1c7920263e1ff2f08044bf9</td>\n",
       "      <td>SOEGIYH12A6D4FC0E3</td>\n",
       "      <td>1</td>\n",
       "      <td>Horn Concerto No. 4 in E flat K495: II. Romanc...</td>\n",
       "    </tr>\n",
       "    <tr>\n",
       "      <th>16</th>\n",
       "      <td>ef8a2ca55ef04a1725b5ffb6b6247b9c1c2b62c0</td>\n",
       "      <td>SOEGIYH12A6D4FC0E3</td>\n",
       "      <td>1</td>\n",
       "      <td>Horn Concerto No. 4 in E flat K495: II. Romanc...</td>\n",
       "    </tr>\n",
       "    <tr>\n",
       "      <th>17</th>\n",
       "      <td>1d71f0def8d213105e5fd39288da226d4f16eafb</td>\n",
       "      <td>SOEGIYH12A6D4FC0E3</td>\n",
       "      <td>2</td>\n",
       "      <td>Horn Concerto No. 4 in E flat K495: II. Romanc...</td>\n",
       "    </tr>\n",
       "    <tr>\n",
       "      <th>18</th>\n",
       "      <td>9571a0673d1c0721b09e7f0d0e7d4a715db3dc1f</td>\n",
       "      <td>SOEGIYH12A6D4FC0E3</td>\n",
       "      <td>7</td>\n",
       "      <td>Horn Concerto No. 4 in E flat K495: II. Romanc...</td>\n",
       "    </tr>\n",
       "    <tr>\n",
       "      <th>19</th>\n",
       "      <td>9d05fc6bf1116e17dff791309a6fdcb6d03c1dcf</td>\n",
       "      <td>SOEGIYH12A6D4FC0E3</td>\n",
       "      <td>1</td>\n",
       "      <td>Horn Concerto No. 4 in E flat K495: II. Romanc...</td>\n",
       "    </tr>\n",
       "  </tbody>\n",
       "</table>\n",
       "</div>"
      ],
      "text/plain": [
       "                                     user_id             song_id  \\\n",
       "0   fd50c4007b68a3737fe052d5a4f78ce8aa117f3d  SOEGIYH12A6D4FC0E3   \n",
       "1   248378ac27e1745d6a9d59392b7dc5b02a6186a6  SOEGIYH12A6D4FC0E3   \n",
       "2   7c49f3e11a6fce79ae60b44df2a3edcf6eb2e163  SOEGIYH12A6D4FC0E3   \n",
       "3   8061f61372876878c2d67bc49b3ddbd2c83d69e2  SOEGIYH12A6D4FC0E3   \n",
       "4   d47c829c4ff6270f9ab82ca36b2805951b62a208  SOEGIYH12A6D4FC0E3   \n",
       "5   a344d1f94e0f6d5783860f62d8bc8ba2fec3d530  SOEGIYH12A6D4FC0E3   \n",
       "6   ab3883c6182f050d6bbca6f2cd8983eb81084417  SOEGIYH12A6D4FC0E3   \n",
       "7   ff8891b901eed1a3abc9bd4c53a17d2bcdc0ead7  SOEGIYH12A6D4FC0E3   \n",
       "8   4fbde29be137e7179046c148f9e15db17c3278be  SOEGIYH12A6D4FC0E3   \n",
       "9   93d158458cbf375218ae7de7fd428bf94cc1491e  SOEGIYH12A6D4FC0E3   \n",
       "10  5495dccfae0b78a23c60c95db39e1e1d6e99ba6d  SOEGIYH12A6D4FC0E3   \n",
       "11  5f3cd0eac9cdeb89958e3927f0f7b230ada8a24f  SOEGIYH12A6D4FC0E3   \n",
       "12  cb91826d83e23a0e7423c114c233a8618e11bab3  SOEGIYH12A6D4FC0E3   \n",
       "13  58e850b81533418bc6a1aaaf300c3f284fd85bac  SOEGIYH12A6D4FC0E3   \n",
       "14  9ca08e25a5c4144b1f2cd6890d8cb65717e7c73e  SOEGIYH12A6D4FC0E3   \n",
       "15  1e6764b1702c8cc0a1c7920263e1ff2f08044bf9  SOEGIYH12A6D4FC0E3   \n",
       "16  ef8a2ca55ef04a1725b5ffb6b6247b9c1c2b62c0  SOEGIYH12A6D4FC0E3   \n",
       "17  1d71f0def8d213105e5fd39288da226d4f16eafb  SOEGIYH12A6D4FC0E3   \n",
       "18  9571a0673d1c0721b09e7f0d0e7d4a715db3dc1f  SOEGIYH12A6D4FC0E3   \n",
       "19  9d05fc6bf1116e17dff791309a6fdcb6d03c1dcf  SOEGIYH12A6D4FC0E3   \n",
       "\n",
       "    no.of times listened                                              songs  \n",
       "0                      1  Horn Concerto No. 4 in E flat K495: II. Romanc...  \n",
       "1                      1  Horn Concerto No. 4 in E flat K495: II. Romanc...  \n",
       "2                      1  Horn Concerto No. 4 in E flat K495: II. Romanc...  \n",
       "3                      1  Horn Concerto No. 4 in E flat K495: II. Romanc...  \n",
       "4                      1  Horn Concerto No. 4 in E flat K495: II. Romanc...  \n",
       "5                      2  Horn Concerto No. 4 in E flat K495: II. Romanc...  \n",
       "6                      6  Horn Concerto No. 4 in E flat K495: II. Romanc...  \n",
       "7                      1  Horn Concerto No. 4 in E flat K495: II. Romanc...  \n",
       "8                      5  Horn Concerto No. 4 in E flat K495: II. Romanc...  \n",
       "9                      1  Horn Concerto No. 4 in E flat K495: II. Romanc...  \n",
       "10                     1  Horn Concerto No. 4 in E flat K495: II. Romanc...  \n",
       "11                     5  Horn Concerto No. 4 in E flat K495: II. Romanc...  \n",
       "12                     6  Horn Concerto No. 4 in E flat K495: II. Romanc...  \n",
       "13                     1  Horn Concerto No. 4 in E flat K495: II. Romanc...  \n",
       "14                    11  Horn Concerto No. 4 in E flat K495: II. Romanc...  \n",
       "15                     1  Horn Concerto No. 4 in E flat K495: II. Romanc...  \n",
       "16                     1  Horn Concerto No. 4 in E flat K495: II. Romanc...  \n",
       "17                     2  Horn Concerto No. 4 in E flat K495: II. Romanc...  \n",
       "18                     7  Horn Concerto No. 4 in E flat K495: II. Romanc...  \n",
       "19                     1  Horn Concerto No. 4 in E flat K495: II. Romanc...  "
      ]
     },
     "execution_count": 36,
     "metadata": {},
     "output_type": "execute_result"
    }
   ],
   "source": [
    "df_temp.head(20)"
   ]
  },
  {
   "cell_type": "markdown",
   "metadata": {},
   "source": [
    "## Our goal is to recommend similar songs to user based on artist name and release"
   ]
  },
  {
   "cell_type": "code",
   "execution_count": 37,
   "metadata": {},
   "outputs": [],
   "source": [
    "#TFIDF\n",
    "from sklearn.feature_extraction.text import TfidfVectorizer\n",
    "\n",
    "tfv=TfidfVectorizer( stop_words=\"english\" )\n",
    "\n",
    "df_temp[\"songs\"]= df_temp[\"songs\"].fillna('')\n",
    "\n"
   ]
  },
  {
   "cell_type": "code",
   "execution_count": 38,
   "metadata": {},
   "outputs": [],
   "source": [
    "tfv_matrix = tfv.fit_transform(df_temp[\"songs\"][:30000])   #not able to take more than 30000 samples"
   ]
  },
  {
   "cell_type": "code",
   "execution_count": 39,
   "metadata": {},
   "outputs": [
    {
     "data": {
      "text/plain": [
       "<30000x251 sparse matrix of type '<class 'numpy.float64'>'\n",
       "\twith 172413 stored elements in Compressed Sparse Row format>"
      ]
     },
     "execution_count": 39,
     "metadata": {},
     "output_type": "execute_result"
    }
   ],
   "source": [
    "tfv_matrix"
   ]
  },
  {
   "cell_type": "code",
   "execution_count": 40,
   "metadata": {},
   "outputs": [
    {
     "data": {
      "text/plain": [
       "(30000, 251)"
      ]
     },
     "execution_count": 40,
     "metadata": {},
     "output_type": "execute_result"
    }
   ],
   "source": [
    "tfv_matrix.shape"
   ]
  },
  {
   "cell_type": "code",
   "execution_count": 42,
   "metadata": {},
   "outputs": [],
   "source": [
    "from sklearn.metrics.pairwise import cosine_similarity\n",
    "\n",
    "cosine_sim = cosine_similarity(tfv_matrix,tfv_matrix)"
   ]
  },
  {
   "cell_type": "code",
   "execution_count": 43,
   "metadata": {},
   "outputs": [
    {
     "data": {
      "text/plain": [
       "array([1., 1., 1., ..., 0., 0., 0.])"
      ]
     },
     "execution_count": 43,
     "metadata": {},
     "output_type": "execute_result"
    }
   ],
   "source": [
    "cosine_sim[0]"
   ]
  },
  {
   "cell_type": "code",
   "execution_count": 41,
   "metadata": {},
   "outputs": [],
   "source": [
    "from sklearn.metrics.pairwise import sigmoid_kernel\n",
    "\n",
    "sig = sigmoid_kernel(tfv_matrix , tfv_matrix)"
   ]
  },
  {
   "cell_type": "code",
   "execution_count": 42,
   "metadata": {},
   "outputs": [
    {
     "data": {
      "text/plain": [
       "array([0.76219261, 0.76219261, 0.76219261, ..., 0.76159416, 0.76159416,\n",
       "       0.76159416])"
      ]
     },
     "execution_count": 42,
     "metadata": {},
     "output_type": "execute_result"
    }
   ],
   "source": [
    "sig[0]"
   ]
  },
  {
   "cell_type": "code",
   "execution_count": 51,
   "metadata": {},
   "outputs": [
    {
     "data": {
      "text/plain": [
       "release\n",
       "Remember His Name                                  29911\n",
       "Secret Skin                                        29912\n",
       "Dirty Mack (Explicit)                              29913\n",
       "Ski Mask Way (Eminem Remix)                        29914\n",
       "Casting Agents And Cowgirls                        29915\n",
       "Your Move (Featuring Lifesavas) (Album Version)    29916\n",
       "Comin' For The Datazz (Explicit)                   29917\n",
       "Wrong Number                                       29918\n",
       "Girl Power                                         29919\n",
       "Use It                                             29920\n",
       "dtype: int64"
      ]
     },
     "execution_count": 51,
     "metadata": {},
     "output_type": "execute_result"
    }
   ],
   "source": [
    "x=[i for i in range(1,137675)]\n",
    "indices = pd.Series(x , index=df['release'].drop_duplicates())\n",
    "indices[29910:29920]"
   ]
  },
  {
   "cell_type": "code",
   "execution_count": 44,
   "metadata": {},
   "outputs": [
    {
     "data": {
      "text/plain": [
       "137674"
      ]
     },
     "execution_count": 44,
     "metadata": {},
     "output_type": "execute_result"
    }
   ],
   "source": [
    "sum(indices.value_counts())"
   ]
  },
  {
   "cell_type": "code",
   "execution_count": 48,
   "metadata": {},
   "outputs": [],
   "source": [
    "def give_rec(release , sig=sig):\n",
    "    idx=indices[release]\n",
    "    sig_scores=list(enumerate(sig[idx]))\n",
    "    sig_scores=sorted(sig_scores,key=lambda x:x[1] , reverse=True)\n",
    "    sig_scores=sig_scores[1:11]\n",
    "    \n",
    "    song_indices=[i[0] for i in sig_scores]\n",
    "    return df['release'].drop_duplicates().iloc[song_indices]\n",
    "    "
   ]
  },
  {
   "cell_type": "code",
   "execution_count": 53,
   "metadata": {},
   "outputs": [
    {
     "data": {
      "text/plain": [
       "1040210                                               Beauty\n",
       "1040225                                            Love Drug\n",
       "1040233                                   Morning Has Broken\n",
       "1040267                               I Don't Believe In You\n",
       "1040269    Sgt. Pepper's Lonely Hearts Club Band (feat. J...\n",
       "1040273                                         High and dry\n",
       "1040296                  Pow (Forward) (Original) (Explicit)\n",
       "1040298                                     Godhead's Lament\n",
       "1040338                         Nicht mit den TÃ¼ren knallen\n",
       "1040372                                         Mejor Te Vas\n",
       "Name: release, dtype: object"
      ]
     },
     "execution_count": 53,
     "metadata": {},
     "output_type": "execute_result"
    }
   ],
   "source": [
    "give_rec(\"Comin' For The Datazz (Explicit)\")  "
   ]
  },
  {
   "cell_type": "code",
   "execution_count": null,
   "metadata": {},
   "outputs": [],
   "source": []
  }
 ],
 "metadata": {
  "kernelspec": {
   "display_name": "Python 3",
   "language": "python",
   "name": "python3"
  },
  "language_info": {
   "codemirror_mode": {
    "name": "ipython",
    "version": 3
   },
   "file_extension": ".py",
   "mimetype": "text/x-python",
   "name": "python",
   "nbconvert_exporter": "python",
   "pygments_lexer": "ipython3",
   "version": "3.6.5"
  }
 },
 "nbformat": 4,
 "nbformat_minor": 4
}
